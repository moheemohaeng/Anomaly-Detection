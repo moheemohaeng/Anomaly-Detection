{
 "cells": [
  {
   "cell_type": "code",
   "execution_count": 8,
   "metadata": {},
   "outputs": [],
   "source": [
    "import numpy as np\n",
    "import pandas as pd\n",
    "from sklearn.impute import KNNImputer\n",
    "from sklearn.preprocessing import MinMaxScaler\n",
    "from sklearn.model_selection import train_test_split\n",
    "from sklearn.neighbors import KNeighborsClassifier\n",
    "from sklearn.svm import SVC\n",
    "from sklearn.naive_bayes import GaussianNB\n",
    "from sklearn.tree import DecisionTreeClassifier\n",
    "from sklearn.ensemble import RandomForestClassifier, AdaBoostClassifier\n",
    "from sklearn.metrics import classification_report\n",
    "from pyod.models.iforest import IForest\n",
    "from sklearn.metrics import accuracy_score, f1_score, confusion_matrix, classification_report, precision_score, recall_score\n",
    "from imblearn.over_sampling import SMOTE\n",
    "from imblearn.under_sampling import OneSidedSelection\n",
    "import os\n",
    "from sklearn.neighbors import LocalOutlierFactor\n",
    "import matplotlib.pyplot as plt\n",
    "from sklearn.decomposition import PCA\n",
    "from pyod.models.pca import PCA\n",
    "from sklearn.mixture import GaussianMixture\n",
    "from sklearn.covariance import EllipticEnvelope\n",
    "from sklearn.model_selection import GridSearchCV\n",
    "\n",
    "import os, sys, pickle\n",
    "import argparse, sys\n",
    "\n",
    "import seaborn as sns\n",
    "sns.set_style('white')\n",
    "\n",
    "import warnings\n",
    "warnings.filterwarnings('ignore')\n",
    "\n",
    "\n",
    "\n",
    "# parser = argparse.ArgumentParser()\n",
    "# parser.add_argument('-label', help=' : Please set the label') \n",
    "# args = parser.parse_args()\n",
    "\n",
    "\n",
    "df = pd.read_csv('data/modified_dataset.csv')\n",
    "\n",
    "\n",
    "# def remove_outliers(df, column_name, factor=1.5):\n",
    "#     Q1 = df[column_name].quantile(0.25)\n",
    "#     Q3 = df[column_name].quantile(0.75)\n",
    "#     IQR = Q3 - Q1\n",
    "#     lower_bound = Q1 - factor * IQR\n",
    "#     upper_bound = Q3 + factor * IQR\n",
    "#     df_filtered = df[(df[column_name] >= lower_bound) & (df[column_name] <= upper_bound)]\n",
    "#     return df_filtered\n",
    "\n",
    "# # 모든 칼럼에 대해 이상치 제거 실행\n",
    "# for column_name in df.columns:\n",
    "#     df = remove_outliers(df, column_name)\n",
    "\n",
    "\n",
    "\n",
    "\n",
    "\n",
    "\n",
    "\n",
    "df_stroke_0 = df[df['Cancer'] == 0]\n",
    "df_stroke_1 = df[df['Cancer'] == 1]\n",
    "\n",
    "\n",
    "\n",
    "#train, test data processing 1,2,3,4중 선택\n",
    "\n",
    "#1.정상으로만 학습, 테스트는 정상과 이상 반반\n",
    "answer_label = 'Cancer'\n",
    "X = df[df.columns.difference([answer_label])]\n",
    "df_normal = df[df[answer_label] == 0]\n",
    "df_abnormal = df[df[answer_label] == 1]\n",
    "test_normal_df = df_normal.sample(n=len(df_stroke_1), random_state = 0)\n",
    "test_df = pd.concat([df_abnormal, test_normal_df])\n",
    "X_test = test_df[test_df.columns.difference([answer_label])]\n",
    "y_test = test_df[answer_label]\n",
    "train_df = df_normal.drop(test_normal_df.index)\n",
    "X_train = train_df[train_df.columns.difference([answer_label])]\n",
    "y_train = train_df[answer_label]\n",
    "\n"
   ]
  },
  {
   "cell_type": "code",
   "execution_count": 9,
   "metadata": {},
   "outputs": [],
   "source": [
    "def main_task(contamination):\n",
    "    i_forest = IForest(contamination=contamination)\n",
    "    i_forest.fit(X_train)\n",
    "    i_forest_test_pred = i_forest.predict(X_test)\n",
    "    return round(f1_score(y_test, i_forest_test_pred),3)"
   ]
  },
  {
   "cell_type": "code",
   "execution_count": 10,
   "metadata": {},
   "outputs": [
    {
     "name": "stderr",
     "output_type": "stream",
     "text": [
      "[I 2023-11-08 15:03:40,447] A new study created in memory with name: no-name-2387e0ec-dbfe-46ca-8eee-0a5e1509fd23\n"
     ]
    },
    {
     "name": "stdout",
     "output_type": "stream",
     "text": [
      "contamination :  0.17\n"
     ]
    },
    {
     "name": "stderr",
     "output_type": "stream",
     "text": [
      "[I 2023-11-08 15:03:40,969] Trial 0 finished with value: 0.758 and parameters: {'contamination': 0.17}. Best is trial 0 with value: 0.758.\n"
     ]
    },
    {
     "name": "stdout",
     "output_type": "stream",
     "text": [
      "<f1_score: 0.758 >\n",
      "contamination :  0.23\n"
     ]
    },
    {
     "name": "stderr",
     "output_type": "stream",
     "text": [
      "[I 2023-11-08 15:03:41,228] Trial 1 finished with value: 0.782 and parameters: {'contamination': 0.23}. Best is trial 1 with value: 0.782.\n"
     ]
    },
    {
     "name": "stdout",
     "output_type": "stream",
     "text": [
      "<f1_score: 0.782 >\n",
      "contamination :  0.25\n"
     ]
    },
    {
     "name": "stderr",
     "output_type": "stream",
     "text": [
      "[I 2023-11-08 15:03:41,510] Trial 2 finished with value: 0.785 and parameters: {'contamination': 0.25}. Best is trial 2 with value: 0.785.\n"
     ]
    },
    {
     "name": "stdout",
     "output_type": "stream",
     "text": [
      "<f1_score: 0.785 >\n",
      "contamination :  0.01\n"
     ]
    },
    {
     "name": "stderr",
     "output_type": "stream",
     "text": [
      "[I 2023-11-08 15:03:41,783] Trial 3 finished with value: 0.445 and parameters: {'contamination': 0.01}. Best is trial 2 with value: 0.785.\n"
     ]
    },
    {
     "name": "stdout",
     "output_type": "stream",
     "text": [
      "<f1_score: 0.445 >\n",
      "contamination :  0.33\n"
     ]
    },
    {
     "name": "stderr",
     "output_type": "stream",
     "text": [
      "[I 2023-11-08 15:03:42,029] Trial 4 finished with value: 0.769 and parameters: {'contamination': 0.33}. Best is trial 2 with value: 0.785.\n"
     ]
    },
    {
     "name": "stdout",
     "output_type": "stream",
     "text": [
      "<f1_score: 0.769 >\n",
      "contamination :  0.21000000000000002\n"
     ]
    },
    {
     "name": "stderr",
     "output_type": "stream",
     "text": [
      "[I 2023-11-08 15:03:42,305] Trial 5 finished with value: 0.779 and parameters: {'contamination': 0.21000000000000002}. Best is trial 2 with value: 0.785.\n"
     ]
    },
    {
     "name": "stdout",
     "output_type": "stream",
     "text": [
      "<f1_score: 0.779 >\n",
      "contamination :  0.01\n"
     ]
    },
    {
     "name": "stderr",
     "output_type": "stream",
     "text": [
      "[I 2023-11-08 15:03:42,610] Trial 6 finished with value: 0.418 and parameters: {'contamination': 0.01}. Best is trial 2 with value: 0.785.\n"
     ]
    },
    {
     "name": "stdout",
     "output_type": "stream",
     "text": [
      "<f1_score: 0.418 >\n",
      "contamination :  0.01\n"
     ]
    },
    {
     "name": "stderr",
     "output_type": "stream",
     "text": [
      "[I 2023-11-08 15:03:42,883] Trial 7 finished with value: 0.46 and parameters: {'contamination': 0.01}. Best is trial 2 with value: 0.785.\n"
     ]
    },
    {
     "name": "stdout",
     "output_type": "stream",
     "text": [
      "<f1_score: 0.46 >\n",
      "contamination :  0.41000000000000003\n"
     ]
    },
    {
     "name": "stderr",
     "output_type": "stream",
     "text": [
      "[I 2023-11-08 15:03:43,176] Trial 8 finished with value: 0.763 and parameters: {'contamination': 0.41000000000000003}. Best is trial 2 with value: 0.785.\n"
     ]
    },
    {
     "name": "stdout",
     "output_type": "stream",
     "text": [
      "<f1_score: 0.763 >\n",
      "contamination :  0.33\n"
     ]
    },
    {
     "name": "stderr",
     "output_type": "stream",
     "text": [
      "[I 2023-11-08 15:03:43,465] Trial 9 finished with value: 0.778 and parameters: {'contamination': 0.33}. Best is trial 2 with value: 0.785.\n"
     ]
    },
    {
     "name": "stdout",
     "output_type": "stream",
     "text": [
      "<f1_score: 0.778 >\n",
      "contamination :  0.13\n"
     ]
    },
    {
     "name": "stderr",
     "output_type": "stream",
     "text": [
      "[I 2023-11-08 15:03:43,773] Trial 10 finished with value: 0.732 and parameters: {'contamination': 0.13}. Best is trial 2 with value: 0.785.\n"
     ]
    },
    {
     "name": "stdout",
     "output_type": "stream",
     "text": [
      "<f1_score: 0.732 >\n",
      "contamination :  0.33\n"
     ]
    },
    {
     "name": "stderr",
     "output_type": "stream",
     "text": [
      "[I 2023-11-08 15:03:44,051] Trial 11 finished with value: 0.77 and parameters: {'contamination': 0.33}. Best is trial 2 with value: 0.785.\n"
     ]
    },
    {
     "name": "stdout",
     "output_type": "stream",
     "text": [
      "<f1_score: 0.77 >\n",
      "contamination :  0.49\n"
     ]
    },
    {
     "name": "stderr",
     "output_type": "stream",
     "text": [
      "[I 2023-11-08 15:03:44,310] Trial 12 finished with value: 0.743 and parameters: {'contamination': 0.49}. Best is trial 2 with value: 0.785.\n"
     ]
    },
    {
     "name": "stdout",
     "output_type": "stream",
     "text": [
      "<f1_score: 0.743 >\n",
      "contamination :  0.25\n"
     ]
    },
    {
     "name": "stderr",
     "output_type": "stream",
     "text": [
      "[I 2023-11-08 15:03:44,584] Trial 13 finished with value: 0.791 and parameters: {'contamination': 0.25}. Best is trial 13 with value: 0.791.\n"
     ]
    },
    {
     "name": "stdout",
     "output_type": "stream",
     "text": [
      "<f1_score: 0.791 >\n",
      "contamination :  0.29000000000000004\n"
     ]
    },
    {
     "name": "stderr",
     "output_type": "stream",
     "text": [
      "[I 2023-11-08 15:03:44,867] Trial 14 finished with value: 0.786 and parameters: {'contamination': 0.29000000000000004}. Best is trial 13 with value: 0.791.\n"
     ]
    },
    {
     "name": "stdout",
     "output_type": "stream",
     "text": [
      "<f1_score: 0.786 >\n",
      "contamination :  0.13\n"
     ]
    },
    {
     "name": "stderr",
     "output_type": "stream",
     "text": [
      "[I 2023-11-08 15:03:45,149] Trial 15 finished with value: 0.742 and parameters: {'contamination': 0.13}. Best is trial 13 with value: 0.791.\n"
     ]
    },
    {
     "name": "stdout",
     "output_type": "stream",
     "text": [
      "<f1_score: 0.742 >\n",
      "contamination :  0.29000000000000004\n"
     ]
    },
    {
     "name": "stderr",
     "output_type": "stream",
     "text": [
      "[I 2023-11-08 15:03:45,425] Trial 16 finished with value: 0.769 and parameters: {'contamination': 0.29000000000000004}. Best is trial 13 with value: 0.791.\n"
     ]
    },
    {
     "name": "stdout",
     "output_type": "stream",
     "text": [
      "<f1_score: 0.769 >\n",
      "contamination :  0.41000000000000003\n"
     ]
    },
    {
     "name": "stderr",
     "output_type": "stream",
     "text": [
      "[I 2023-11-08 15:03:45,684] Trial 17 finished with value: 0.762 and parameters: {'contamination': 0.41000000000000003}. Best is trial 13 with value: 0.791.\n"
     ]
    },
    {
     "name": "stdout",
     "output_type": "stream",
     "text": [
      "<f1_score: 0.762 >\n",
      "contamination :  0.09\n"
     ]
    },
    {
     "name": "stderr",
     "output_type": "stream",
     "text": [
      "[I 2023-11-08 15:03:45,971] Trial 18 finished with value: 0.71 and parameters: {'contamination': 0.09}. Best is trial 13 with value: 0.791.\n"
     ]
    },
    {
     "name": "stdout",
     "output_type": "stream",
     "text": [
      "<f1_score: 0.71 >\n",
      "contamination :  0.29000000000000004\n"
     ]
    },
    {
     "name": "stderr",
     "output_type": "stream",
     "text": [
      "[I 2023-11-08 15:03:46,265] Trial 19 finished with value: 0.784 and parameters: {'contamination': 0.29000000000000004}. Best is trial 13 with value: 0.791.\n"
     ]
    },
    {
     "name": "stdout",
     "output_type": "stream",
     "text": [
      "<f1_score: 0.784 >\n",
      "contamination :  0.41000000000000003\n"
     ]
    },
    {
     "name": "stderr",
     "output_type": "stream",
     "text": [
      "[I 2023-11-08 15:03:46,519] Trial 20 finished with value: 0.772 and parameters: {'contamination': 0.41000000000000003}. Best is trial 13 with value: 0.791.\n"
     ]
    },
    {
     "name": "stdout",
     "output_type": "stream",
     "text": [
      "<f1_score: 0.772 >\n",
      "contamination :  0.27\n"
     ]
    },
    {
     "name": "stderr",
     "output_type": "stream",
     "text": [
      "[I 2023-11-08 15:03:46,830] Trial 21 finished with value: 0.791 and parameters: {'contamination': 0.27}. Best is trial 13 with value: 0.791.\n"
     ]
    },
    {
     "name": "stdout",
     "output_type": "stream",
     "text": [
      "<f1_score: 0.791 >\n",
      "contamination :  0.19\n"
     ]
    },
    {
     "name": "stderr",
     "output_type": "stream",
     "text": [
      "[I 2023-11-08 15:03:47,124] Trial 22 finished with value: 0.787 and parameters: {'contamination': 0.19}. Best is trial 13 with value: 0.791.\n"
     ]
    },
    {
     "name": "stdout",
     "output_type": "stream",
     "text": [
      "<f1_score: 0.787 >\n",
      "contamination :  0.19\n"
     ]
    },
    {
     "name": "stderr",
     "output_type": "stream",
     "text": [
      "[I 2023-11-08 15:03:47,385] Trial 23 finished with value: 0.774 and parameters: {'contamination': 0.19}. Best is trial 13 with value: 0.791.\n"
     ]
    },
    {
     "name": "stdout",
     "output_type": "stream",
     "text": [
      "<f1_score: 0.774 >\n",
      "contamination :  0.15000000000000002\n"
     ]
    },
    {
     "name": "stderr",
     "output_type": "stream",
     "text": [
      "[I 2023-11-08 15:03:47,650] Trial 24 finished with value: 0.76 and parameters: {'contamination': 0.15000000000000002}. Best is trial 13 with value: 0.791.\n"
     ]
    },
    {
     "name": "stdout",
     "output_type": "stream",
     "text": [
      "<f1_score: 0.76 >\n",
      "contamination :  0.09\n"
     ]
    },
    {
     "name": "stderr",
     "output_type": "stream",
     "text": [
      "[I 2023-11-08 15:03:47,911] Trial 25 finished with value: 0.747 and parameters: {'contamination': 0.09}. Best is trial 13 with value: 0.791.\n"
     ]
    },
    {
     "name": "stdout",
     "output_type": "stream",
     "text": [
      "<f1_score: 0.747 >\n",
      "contamination :  0.25\n"
     ]
    },
    {
     "name": "stderr",
     "output_type": "stream",
     "text": [
      "[I 2023-11-08 15:03:48,165] Trial 26 finished with value: 0.783 and parameters: {'contamination': 0.25}. Best is trial 13 with value: 0.791.\n"
     ]
    },
    {
     "name": "stdout",
     "output_type": "stream",
     "text": [
      "<f1_score: 0.783 >\n",
      "contamination :  0.37\n"
     ]
    },
    {
     "name": "stderr",
     "output_type": "stream",
     "text": [
      "[I 2023-11-08 15:03:48,445] Trial 27 finished with value: 0.768 and parameters: {'contamination': 0.37}. Best is trial 13 with value: 0.791.\n"
     ]
    },
    {
     "name": "stdout",
     "output_type": "stream",
     "text": [
      "<f1_score: 0.768 >\n",
      "contamination :  0.21000000000000002\n"
     ]
    },
    {
     "name": "stderr",
     "output_type": "stream",
     "text": [
      "[I 2023-11-08 15:03:48,747] Trial 28 finished with value: 0.788 and parameters: {'contamination': 0.21000000000000002}. Best is trial 13 with value: 0.791.\n"
     ]
    },
    {
     "name": "stdout",
     "output_type": "stream",
     "text": [
      "<f1_score: 0.788 >\n",
      "contamination :  0.27\n"
     ]
    },
    {
     "name": "stderr",
     "output_type": "stream",
     "text": [
      "[I 2023-11-08 15:03:49,048] Trial 29 finished with value: 0.791 and parameters: {'contamination': 0.27}. Best is trial 13 with value: 0.791.\n"
     ]
    },
    {
     "name": "stdout",
     "output_type": "stream",
     "text": [
      "<f1_score: 0.791 >\n",
      "contamination :  0.27\n"
     ]
    },
    {
     "name": "stderr",
     "output_type": "stream",
     "text": [
      "[I 2023-11-08 15:03:49,314] Trial 30 finished with value: 0.788 and parameters: {'contamination': 0.27}. Best is trial 13 with value: 0.791.\n"
     ]
    },
    {
     "name": "stdout",
     "output_type": "stream",
     "text": [
      "<f1_score: 0.788 >\n",
      "contamination :  0.23\n"
     ]
    },
    {
     "name": "stderr",
     "output_type": "stream",
     "text": [
      "[I 2023-11-08 15:03:49,592] Trial 31 finished with value: 0.793 and parameters: {'contamination': 0.23}. Best is trial 31 with value: 0.793.\n"
     ]
    },
    {
     "name": "stdout",
     "output_type": "stream",
     "text": [
      "<f1_score: 0.793 >\n",
      "contamination :  0.23\n"
     ]
    },
    {
     "name": "stderr",
     "output_type": "stream",
     "text": [
      "[I 2023-11-08 15:03:49,894] Trial 32 finished with value: 0.777 and parameters: {'contamination': 0.23}. Best is trial 31 with value: 0.793.\n"
     ]
    },
    {
     "name": "stdout",
     "output_type": "stream",
     "text": [
      "<f1_score: 0.777 >\n",
      "contamination :  0.27\n"
     ]
    },
    {
     "name": "stderr",
     "output_type": "stream",
     "text": [
      "[I 2023-11-08 15:03:50,207] Trial 33 finished with value: 0.776 and parameters: {'contamination': 0.27}. Best is trial 31 with value: 0.793.\n"
     ]
    },
    {
     "name": "stdout",
     "output_type": "stream",
     "text": [
      "<f1_score: 0.776 >\n",
      "contamination :  0.23\n"
     ]
    },
    {
     "name": "stderr",
     "output_type": "stream",
     "text": [
      "[I 2023-11-08 15:03:50,542] Trial 34 finished with value: 0.797 and parameters: {'contamination': 0.23}. Best is trial 34 with value: 0.797.\n"
     ]
    },
    {
     "name": "stdout",
     "output_type": "stream",
     "text": [
      "<f1_score: 0.797 >\n",
      "contamination :  0.23\n"
     ]
    },
    {
     "name": "stderr",
     "output_type": "stream",
     "text": [
      "[I 2023-11-08 15:03:50,868] Trial 35 finished with value: 0.768 and parameters: {'contamination': 0.23}. Best is trial 34 with value: 0.797.\n"
     ]
    },
    {
     "name": "stdout",
     "output_type": "stream",
     "text": [
      "<f1_score: 0.768 >\n",
      "contamination :  0.17\n"
     ]
    },
    {
     "name": "stderr",
     "output_type": "stream",
     "text": [
      "[I 2023-11-08 15:03:51,156] Trial 36 finished with value: 0.778 and parameters: {'contamination': 0.17}. Best is trial 34 with value: 0.797.\n"
     ]
    },
    {
     "name": "stdout",
     "output_type": "stream",
     "text": [
      "<f1_score: 0.778 >\n",
      "contamination :  0.35000000000000003\n"
     ]
    },
    {
     "name": "stderr",
     "output_type": "stream",
     "text": [
      "[I 2023-11-08 15:03:51,430] Trial 37 finished with value: 0.772 and parameters: {'contamination': 0.35000000000000003}. Best is trial 34 with value: 0.797.\n"
     ]
    },
    {
     "name": "stdout",
     "output_type": "stream",
     "text": [
      "<f1_score: 0.772 >\n",
      "contamination :  0.21000000000000002\n"
     ]
    },
    {
     "name": "stderr",
     "output_type": "stream",
     "text": [
      "[I 2023-11-08 15:03:51,731] Trial 38 finished with value: 0.785 and parameters: {'contamination': 0.21000000000000002}. Best is trial 34 with value: 0.797.\n"
     ]
    },
    {
     "name": "stdout",
     "output_type": "stream",
     "text": [
      "<f1_score: 0.785 >\n",
      "contamination :  0.31\n"
     ]
    },
    {
     "name": "stderr",
     "output_type": "stream",
     "text": [
      "[I 2023-11-08 15:03:52,015] Trial 39 finished with value: 0.773 and parameters: {'contamination': 0.31}. Best is trial 34 with value: 0.797.\n"
     ]
    },
    {
     "name": "stdout",
     "output_type": "stream",
     "text": [
      "<f1_score: 0.773 >\n",
      "contamination :  0.37\n"
     ]
    },
    {
     "name": "stderr",
     "output_type": "stream",
     "text": [
      "[I 2023-11-08 15:03:52,280] Trial 40 finished with value: 0.762 and parameters: {'contamination': 0.37}. Best is trial 34 with value: 0.797.\n"
     ]
    },
    {
     "name": "stdout",
     "output_type": "stream",
     "text": [
      "<f1_score: 0.762 >\n",
      "contamination :  0.27\n"
     ]
    },
    {
     "name": "stderr",
     "output_type": "stream",
     "text": [
      "[I 2023-11-08 15:03:52,575] Trial 41 finished with value: 0.782 and parameters: {'contamination': 0.27}. Best is trial 34 with value: 0.797.\n"
     ]
    },
    {
     "name": "stdout",
     "output_type": "stream",
     "text": [
      "<f1_score: 0.782 >\n",
      "contamination :  0.25\n"
     ]
    },
    {
     "name": "stderr",
     "output_type": "stream",
     "text": [
      "[I 2023-11-08 15:03:52,867] Trial 42 finished with value: 0.788 and parameters: {'contamination': 0.25}. Best is trial 34 with value: 0.797.\n"
     ]
    },
    {
     "name": "stdout",
     "output_type": "stream",
     "text": [
      "<f1_score: 0.788 >\n",
      "contamination :  0.23\n"
     ]
    },
    {
     "name": "stderr",
     "output_type": "stream",
     "text": [
      "[I 2023-11-08 15:03:53,132] Trial 43 finished with value: 0.786 and parameters: {'contamination': 0.23}. Best is trial 34 with value: 0.797.\n"
     ]
    },
    {
     "name": "stdout",
     "output_type": "stream",
     "text": [
      "<f1_score: 0.786 >\n",
      "contamination :  0.31\n"
     ]
    },
    {
     "name": "stderr",
     "output_type": "stream",
     "text": [
      "[I 2023-11-08 15:03:53,389] Trial 44 finished with value: 0.784 and parameters: {'contamination': 0.31}. Best is trial 34 with value: 0.797.\n"
     ]
    },
    {
     "name": "stdout",
     "output_type": "stream",
     "text": [
      "<f1_score: 0.784 >\n",
      "contamination :  0.25\n"
     ]
    },
    {
     "name": "stderr",
     "output_type": "stream",
     "text": [
      "[I 2023-11-08 15:03:53,667] Trial 45 finished with value: 0.758 and parameters: {'contamination': 0.25}. Best is trial 34 with value: 0.797.\n"
     ]
    },
    {
     "name": "stdout",
     "output_type": "stream",
     "text": [
      "<f1_score: 0.758 >\n",
      "contamination :  0.19\n"
     ]
    },
    {
     "name": "stderr",
     "output_type": "stream",
     "text": [
      "[I 2023-11-08 15:03:53,923] Trial 46 finished with value: 0.773 and parameters: {'contamination': 0.19}. Best is trial 34 with value: 0.797.\n"
     ]
    },
    {
     "name": "stdout",
     "output_type": "stream",
     "text": [
      "<f1_score: 0.773 >\n",
      "contamination :  0.31\n"
     ]
    },
    {
     "name": "stderr",
     "output_type": "stream",
     "text": [
      "[I 2023-11-08 15:03:54,190] Trial 47 finished with value: 0.785 and parameters: {'contamination': 0.31}. Best is trial 34 with value: 0.797.\n"
     ]
    },
    {
     "name": "stdout",
     "output_type": "stream",
     "text": [
      "<f1_score: 0.785 >\n",
      "contamination :  0.15000000000000002\n"
     ]
    },
    {
     "name": "stderr",
     "output_type": "stream",
     "text": [
      "[I 2023-11-08 15:03:54,479] Trial 48 finished with value: 0.757 and parameters: {'contamination': 0.15000000000000002}. Best is trial 34 with value: 0.797.\n"
     ]
    },
    {
     "name": "stdout",
     "output_type": "stream",
     "text": [
      "<f1_score: 0.757 >\n",
      "contamination :  0.23\n"
     ]
    },
    {
     "name": "stderr",
     "output_type": "stream",
     "text": [
      "[I 2023-11-08 15:03:54,763] Trial 49 finished with value: 0.785 and parameters: {'contamination': 0.23}. Best is trial 34 with value: 0.797.\n"
     ]
    },
    {
     "name": "stdout",
     "output_type": "stream",
     "text": [
      "<f1_score: 0.785 >\n",
      "contamination :  0.27\n"
     ]
    },
    {
     "name": "stderr",
     "output_type": "stream",
     "text": [
      "[I 2023-11-08 15:03:55,018] Trial 50 finished with value: 0.791 and parameters: {'contamination': 0.27}. Best is trial 34 with value: 0.797.\n"
     ]
    },
    {
     "name": "stdout",
     "output_type": "stream",
     "text": [
      "<f1_score: 0.791 >\n",
      "contamination :  0.29000000000000004\n"
     ]
    },
    {
     "name": "stderr",
     "output_type": "stream",
     "text": [
      "[I 2023-11-08 15:03:55,327] Trial 51 finished with value: 0.783 and parameters: {'contamination': 0.29000000000000004}. Best is trial 34 with value: 0.797.\n"
     ]
    },
    {
     "name": "stdout",
     "output_type": "stream",
     "text": [
      "<f1_score: 0.783 >\n",
      "contamination :  0.27\n"
     ]
    },
    {
     "name": "stderr",
     "output_type": "stream",
     "text": [
      "[I 2023-11-08 15:03:55,625] Trial 52 finished with value: 0.787 and parameters: {'contamination': 0.27}. Best is trial 34 with value: 0.797.\n"
     ]
    },
    {
     "name": "stdout",
     "output_type": "stream",
     "text": [
      "<f1_score: 0.787 >\n",
      "contamination :  0.21000000000000002\n"
     ]
    },
    {
     "name": "stderr",
     "output_type": "stream",
     "text": [
      "[I 2023-11-08 15:03:55,905] Trial 53 finished with value: 0.782 and parameters: {'contamination': 0.21000000000000002}. Best is trial 34 with value: 0.797.\n"
     ]
    },
    {
     "name": "stdout",
     "output_type": "stream",
     "text": [
      "<f1_score: 0.782 >\n",
      "contamination :  0.33\n"
     ]
    },
    {
     "name": "stderr",
     "output_type": "stream",
     "text": [
      "[I 2023-11-08 15:03:56,285] Trial 54 finished with value: 0.777 and parameters: {'contamination': 0.33}. Best is trial 34 with value: 0.797.\n"
     ]
    },
    {
     "name": "stdout",
     "output_type": "stream",
     "text": [
      "<f1_score: 0.777 >\n",
      "contamination :  0.25\n"
     ]
    },
    {
     "name": "stderr",
     "output_type": "stream",
     "text": [
      "[I 2023-11-08 15:03:56,547] Trial 55 finished with value: 0.786 and parameters: {'contamination': 0.25}. Best is trial 34 with value: 0.797.\n"
     ]
    },
    {
     "name": "stdout",
     "output_type": "stream",
     "text": [
      "<f1_score: 0.786 >\n",
      "contamination :  0.17\n"
     ]
    },
    {
     "name": "stderr",
     "output_type": "stream",
     "text": [
      "[I 2023-11-08 15:03:56,828] Trial 56 finished with value: 0.753 and parameters: {'contamination': 0.17}. Best is trial 34 with value: 0.797.\n"
     ]
    },
    {
     "name": "stdout",
     "output_type": "stream",
     "text": [
      "<f1_score: 0.753 >\n",
      "contamination :  0.29000000000000004\n"
     ]
    },
    {
     "name": "stderr",
     "output_type": "stream",
     "text": [
      "[I 2023-11-08 15:03:57,094] Trial 57 finished with value: 0.781 and parameters: {'contamination': 0.29000000000000004}. Best is trial 34 with value: 0.797.\n"
     ]
    },
    {
     "name": "stdout",
     "output_type": "stream",
     "text": [
      "<f1_score: 0.781 >\n",
      "contamination :  0.25\n"
     ]
    },
    {
     "name": "stderr",
     "output_type": "stream",
     "text": [
      "[I 2023-11-08 15:03:57,348] Trial 58 finished with value: 0.785 and parameters: {'contamination': 0.25}. Best is trial 34 with value: 0.797.\n"
     ]
    },
    {
     "name": "stdout",
     "output_type": "stream",
     "text": [
      "<f1_score: 0.785 >\n",
      "contamination :  0.49\n"
     ]
    },
    {
     "name": "stderr",
     "output_type": "stream",
     "text": [
      "[I 2023-11-08 15:03:57,630] Trial 59 finished with value: 0.743 and parameters: {'contamination': 0.49}. Best is trial 34 with value: 0.797.\n"
     ]
    },
    {
     "name": "stdout",
     "output_type": "stream",
     "text": [
      "<f1_score: 0.743 >\n",
      "contamination :  0.35000000000000003\n"
     ]
    },
    {
     "name": "stderr",
     "output_type": "stream",
     "text": [
      "[I 2023-11-08 15:03:57,893] Trial 60 finished with value: 0.776 and parameters: {'contamination': 0.35000000000000003}. Best is trial 34 with value: 0.797.\n"
     ]
    },
    {
     "name": "stdout",
     "output_type": "stream",
     "text": [
      "<f1_score: 0.776 >\n",
      "contamination :  0.21000000000000002\n"
     ]
    },
    {
     "name": "stderr",
     "output_type": "stream",
     "text": [
      "[I 2023-11-08 15:03:58,152] Trial 61 finished with value: 0.766 and parameters: {'contamination': 0.21000000000000002}. Best is trial 34 with value: 0.797.\n"
     ]
    },
    {
     "name": "stdout",
     "output_type": "stream",
     "text": [
      "<f1_score: 0.766 >\n",
      "contamination :  0.19\n"
     ]
    },
    {
     "name": "stderr",
     "output_type": "stream",
     "text": [
      "[I 2023-11-08 15:03:58,434] Trial 62 finished with value: 0.773 and parameters: {'contamination': 0.19}. Best is trial 34 with value: 0.797.\n"
     ]
    },
    {
     "name": "stdout",
     "output_type": "stream",
     "text": [
      "<f1_score: 0.773 >\n",
      "contamination :  0.27\n"
     ]
    },
    {
     "name": "stderr",
     "output_type": "stream",
     "text": [
      "[I 2023-11-08 15:03:58,714] Trial 63 finished with value: 0.773 and parameters: {'contamination': 0.27}. Best is trial 34 with value: 0.797.\n"
     ]
    },
    {
     "name": "stdout",
     "output_type": "stream",
     "text": [
      "<f1_score: 0.773 >\n",
      "contamination :  0.23\n"
     ]
    },
    {
     "name": "stderr",
     "output_type": "stream",
     "text": [
      "[I 2023-11-08 15:03:58,988] Trial 64 finished with value: 0.78 and parameters: {'contamination': 0.23}. Best is trial 34 with value: 0.797.\n"
     ]
    },
    {
     "name": "stdout",
     "output_type": "stream",
     "text": [
      "<f1_score: 0.78 >\n",
      "contamination :  0.21000000000000002\n"
     ]
    },
    {
     "name": "stderr",
     "output_type": "stream",
     "text": [
      "[I 2023-11-08 15:03:59,248] Trial 65 finished with value: 0.787 and parameters: {'contamination': 0.21000000000000002}. Best is trial 34 with value: 0.797.\n"
     ]
    },
    {
     "name": "stdout",
     "output_type": "stream",
     "text": [
      "<f1_score: 0.787 >\n",
      "contamination :  0.15000000000000002\n"
     ]
    },
    {
     "name": "stderr",
     "output_type": "stream",
     "text": [
      "[I 2023-11-08 15:03:59,512] Trial 66 finished with value: 0.761 and parameters: {'contamination': 0.15000000000000002}. Best is trial 34 with value: 0.797.\n"
     ]
    },
    {
     "name": "stdout",
     "output_type": "stream",
     "text": [
      "<f1_score: 0.761 >\n",
      "contamination :  0.29000000000000004\n"
     ]
    },
    {
     "name": "stderr",
     "output_type": "stream",
     "text": [
      "[I 2023-11-08 15:03:59,797] Trial 67 finished with value: 0.786 and parameters: {'contamination': 0.29000000000000004}. Best is trial 34 with value: 0.797.\n"
     ]
    },
    {
     "name": "stdout",
     "output_type": "stream",
     "text": [
      "<f1_score: 0.786 >\n",
      "contamination :  0.17\n"
     ]
    },
    {
     "name": "stderr",
     "output_type": "stream",
     "text": [
      "[I 2023-11-08 15:04:00,053] Trial 68 finished with value: 0.75 and parameters: {'contamination': 0.17}. Best is trial 34 with value: 0.797.\n"
     ]
    },
    {
     "name": "stdout",
     "output_type": "stream",
     "text": [
      "<f1_score: 0.75 >\n",
      "contamination :  0.09\n"
     ]
    },
    {
     "name": "stderr",
     "output_type": "stream",
     "text": [
      "[I 2023-11-08 15:04:00,335] Trial 69 finished with value: 0.723 and parameters: {'contamination': 0.09}. Best is trial 34 with value: 0.797.\n"
     ]
    },
    {
     "name": "stdout",
     "output_type": "stream",
     "text": [
      "<f1_score: 0.723 >\n",
      "contamination :  0.31\n"
     ]
    },
    {
     "name": "stderr",
     "output_type": "stream",
     "text": [
      "[I 2023-11-08 15:04:00,625] Trial 70 finished with value: 0.786 and parameters: {'contamination': 0.31}. Best is trial 34 with value: 0.797.\n"
     ]
    },
    {
     "name": "stdout",
     "output_type": "stream",
     "text": [
      "<f1_score: 0.786 >\n",
      "contamination :  0.27\n"
     ]
    },
    {
     "name": "stderr",
     "output_type": "stream",
     "text": [
      "[I 2023-11-08 15:04:00,870] Trial 71 finished with value: 0.782 and parameters: {'contamination': 0.27}. Best is trial 34 with value: 0.797.\n"
     ]
    },
    {
     "name": "stdout",
     "output_type": "stream",
     "text": [
      "<f1_score: 0.782 >\n",
      "contamination :  0.27\n"
     ]
    },
    {
     "name": "stderr",
     "output_type": "stream",
     "text": [
      "[I 2023-11-08 15:04:01,159] Trial 72 finished with value: 0.79 and parameters: {'contamination': 0.27}. Best is trial 34 with value: 0.797.\n"
     ]
    },
    {
     "name": "stdout",
     "output_type": "stream",
     "text": [
      "<f1_score: 0.79 >\n",
      "contamination :  0.23\n"
     ]
    },
    {
     "name": "stderr",
     "output_type": "stream",
     "text": [
      "[I 2023-11-08 15:04:01,432] Trial 73 finished with value: 0.783 and parameters: {'contamination': 0.23}. Best is trial 34 with value: 0.797.\n"
     ]
    },
    {
     "name": "stdout",
     "output_type": "stream",
     "text": [
      "<f1_score: 0.783 >\n",
      "contamination :  0.27\n"
     ]
    },
    {
     "name": "stderr",
     "output_type": "stream",
     "text": [
      "[I 2023-11-08 15:04:01,683] Trial 74 finished with value: 0.783 and parameters: {'contamination': 0.27}. Best is trial 34 with value: 0.797.\n"
     ]
    },
    {
     "name": "stdout",
     "output_type": "stream",
     "text": [
      "<f1_score: 0.783 >\n",
      "contamination :  0.21000000000000002\n"
     ]
    },
    {
     "name": "stderr",
     "output_type": "stream",
     "text": [
      "[I 2023-11-08 15:04:01,958] Trial 75 finished with value: 0.79 and parameters: {'contamination': 0.21000000000000002}. Best is trial 34 with value: 0.797.\n"
     ]
    },
    {
     "name": "stdout",
     "output_type": "stream",
     "text": [
      "<f1_score: 0.79 >\n",
      "contamination :  0.25\n"
     ]
    },
    {
     "name": "stderr",
     "output_type": "stream",
     "text": [
      "[I 2023-11-08 15:04:02,237] Trial 76 finished with value: 0.807 and parameters: {'contamination': 0.25}. Best is trial 76 with value: 0.807.\n"
     ]
    },
    {
     "name": "stdout",
     "output_type": "stream",
     "text": [
      "<f1_score: 0.807 >\n",
      "contamination :  0.25\n"
     ]
    },
    {
     "name": "stderr",
     "output_type": "stream",
     "text": [
      "[I 2023-11-08 15:04:02,524] Trial 77 finished with value: 0.76 and parameters: {'contamination': 0.25}. Best is trial 76 with value: 0.807.\n"
     ]
    },
    {
     "name": "stdout",
     "output_type": "stream",
     "text": [
      "<f1_score: 0.76 >\n",
      "contamination :  0.29000000000000004\n"
     ]
    },
    {
     "name": "stderr",
     "output_type": "stream",
     "text": [
      "[I 2023-11-08 15:04:02,794] Trial 78 finished with value: 0.782 and parameters: {'contamination': 0.29000000000000004}. Best is trial 76 with value: 0.807.\n"
     ]
    },
    {
     "name": "stdout",
     "output_type": "stream",
     "text": [
      "<f1_score: 0.782 >\n",
      "contamination :  0.25\n"
     ]
    },
    {
     "name": "stderr",
     "output_type": "stream",
     "text": [
      "[I 2023-11-08 15:04:03,061] Trial 79 finished with value: 0.789 and parameters: {'contamination': 0.25}. Best is trial 76 with value: 0.807.\n"
     ]
    },
    {
     "name": "stdout",
     "output_type": "stream",
     "text": [
      "<f1_score: 0.789 >\n",
      "contamination :  0.31\n"
     ]
    },
    {
     "name": "stderr",
     "output_type": "stream",
     "text": [
      "[I 2023-11-08 15:04:03,350] Trial 80 finished with value: 0.78 and parameters: {'contamination': 0.31}. Best is trial 76 with value: 0.807.\n"
     ]
    },
    {
     "name": "stdout",
     "output_type": "stream",
     "text": [
      "<f1_score: 0.78 >\n",
      "contamination :  0.23\n"
     ]
    },
    {
     "name": "stderr",
     "output_type": "stream",
     "text": [
      "[I 2023-11-08 15:04:03,611] Trial 81 finished with value: 0.796 and parameters: {'contamination': 0.23}. Best is trial 76 with value: 0.807.\n"
     ]
    },
    {
     "name": "stdout",
     "output_type": "stream",
     "text": [
      "<f1_score: 0.796 >\n",
      "contamination :  0.23\n"
     ]
    },
    {
     "name": "stderr",
     "output_type": "stream",
     "text": [
      "[I 2023-11-08 15:04:03,892] Trial 82 finished with value: 0.786 and parameters: {'contamination': 0.23}. Best is trial 76 with value: 0.807.\n"
     ]
    },
    {
     "name": "stdout",
     "output_type": "stream",
     "text": [
      "<f1_score: 0.786 >\n",
      "contamination :  0.27\n"
     ]
    },
    {
     "name": "stderr",
     "output_type": "stream",
     "text": [
      "[I 2023-11-08 15:04:04,154] Trial 83 finished with value: 0.786 and parameters: {'contamination': 0.27}. Best is trial 76 with value: 0.807.\n"
     ]
    },
    {
     "name": "stdout",
     "output_type": "stream",
     "text": [
      "<f1_score: 0.786 >\n",
      "contamination :  0.23\n"
     ]
    },
    {
     "name": "stderr",
     "output_type": "stream",
     "text": [
      "[I 2023-11-08 15:04:04,449] Trial 84 finished with value: 0.785 and parameters: {'contamination': 0.23}. Best is trial 76 with value: 0.807.\n"
     ]
    },
    {
     "name": "stdout",
     "output_type": "stream",
     "text": [
      "<f1_score: 0.785 >\n",
      "contamination :  0.25\n"
     ]
    },
    {
     "name": "stderr",
     "output_type": "stream",
     "text": [
      "[I 2023-11-08 15:04:04,723] Trial 85 finished with value: 0.773 and parameters: {'contamination': 0.25}. Best is trial 76 with value: 0.807.\n"
     ]
    },
    {
     "name": "stdout",
     "output_type": "stream",
     "text": [
      "<f1_score: 0.773 >\n",
      "contamination :  0.19\n"
     ]
    },
    {
     "name": "stderr",
     "output_type": "stream",
     "text": [
      "[I 2023-11-08 15:04:05,007] Trial 86 finished with value: 0.754 and parameters: {'contamination': 0.19}. Best is trial 76 with value: 0.807.\n"
     ]
    },
    {
     "name": "stdout",
     "output_type": "stream",
     "text": [
      "<f1_score: 0.754 >\n",
      "contamination :  0.03\n"
     ]
    },
    {
     "name": "stderr",
     "output_type": "stream",
     "text": [
      "[I 2023-11-08 15:04:05,284] Trial 87 finished with value: 0.615 and parameters: {'contamination': 0.03}. Best is trial 76 with value: 0.807.\n"
     ]
    },
    {
     "name": "stdout",
     "output_type": "stream",
     "text": [
      "<f1_score: 0.615 >\n",
      "contamination :  0.29000000000000004\n"
     ]
    },
    {
     "name": "stderr",
     "output_type": "stream",
     "text": [
      "[I 2023-11-08 15:04:05,567] Trial 88 finished with value: 0.782 and parameters: {'contamination': 0.29000000000000004}. Best is trial 76 with value: 0.807.\n"
     ]
    },
    {
     "name": "stdout",
     "output_type": "stream",
     "text": [
      "<f1_score: 0.782 >\n",
      "contamination :  0.27\n"
     ]
    },
    {
     "name": "stderr",
     "output_type": "stream",
     "text": [
      "[I 2023-11-08 15:04:05,836] Trial 89 finished with value: 0.792 and parameters: {'contamination': 0.27}. Best is trial 76 with value: 0.807.\n"
     ]
    },
    {
     "name": "stdout",
     "output_type": "stream",
     "text": [
      "<f1_score: 0.792 >\n",
      "contamination :  0.25\n"
     ]
    },
    {
     "name": "stderr",
     "output_type": "stream",
     "text": [
      "[I 2023-11-08 15:04:06,103] Trial 90 finished with value: 0.787 and parameters: {'contamination': 0.25}. Best is trial 76 with value: 0.807.\n"
     ]
    },
    {
     "name": "stdout",
     "output_type": "stream",
     "text": [
      "<f1_score: 0.787 >\n",
      "contamination :  0.27\n"
     ]
    },
    {
     "name": "stderr",
     "output_type": "stream",
     "text": [
      "[I 2023-11-08 15:04:06,476] Trial 91 finished with value: 0.791 and parameters: {'contamination': 0.27}. Best is trial 76 with value: 0.807.\n"
     ]
    },
    {
     "name": "stdout",
     "output_type": "stream",
     "text": [
      "<f1_score: 0.791 >\n",
      "contamination :  0.25\n"
     ]
    },
    {
     "name": "stderr",
     "output_type": "stream",
     "text": [
      "[I 2023-11-08 15:04:06,732] Trial 92 finished with value: 0.778 and parameters: {'contamination': 0.25}. Best is trial 76 with value: 0.807.\n"
     ]
    },
    {
     "name": "stdout",
     "output_type": "stream",
     "text": [
      "<f1_score: 0.778 >\n",
      "contamination :  0.29000000000000004\n"
     ]
    },
    {
     "name": "stderr",
     "output_type": "stream",
     "text": [
      "[I 2023-11-08 15:04:07,008] Trial 93 finished with value: 0.784 and parameters: {'contamination': 0.29000000000000004}. Best is trial 76 with value: 0.807.\n"
     ]
    },
    {
     "name": "stdout",
     "output_type": "stream",
     "text": [
      "<f1_score: 0.784 >\n",
      "contamination :  0.31\n"
     ]
    },
    {
     "name": "stderr",
     "output_type": "stream",
     "text": [
      "[I 2023-11-08 15:04:07,272] Trial 94 finished with value: 0.781 and parameters: {'contamination': 0.31}. Best is trial 76 with value: 0.807.\n"
     ]
    },
    {
     "name": "stdout",
     "output_type": "stream",
     "text": [
      "<f1_score: 0.781 >\n",
      "contamination :  0.21000000000000002\n"
     ]
    },
    {
     "name": "stderr",
     "output_type": "stream",
     "text": [
      "[I 2023-11-08 15:04:07,539] Trial 95 finished with value: 0.772 and parameters: {'contamination': 0.21000000000000002}. Best is trial 76 with value: 0.807.\n"
     ]
    },
    {
     "name": "stdout",
     "output_type": "stream",
     "text": [
      "<f1_score: 0.772 >\n",
      "contamination :  0.23\n"
     ]
    },
    {
     "name": "stderr",
     "output_type": "stream",
     "text": [
      "[I 2023-11-08 15:04:07,799] Trial 96 finished with value: 0.782 and parameters: {'contamination': 0.23}. Best is trial 76 with value: 0.807.\n"
     ]
    },
    {
     "name": "stdout",
     "output_type": "stream",
     "text": [
      "<f1_score: 0.782 >\n",
      "contamination :  0.27\n"
     ]
    },
    {
     "name": "stderr",
     "output_type": "stream",
     "text": [
      "[I 2023-11-08 15:04:08,053] Trial 97 finished with value: 0.783 and parameters: {'contamination': 0.27}. Best is trial 76 with value: 0.807.\n"
     ]
    },
    {
     "name": "stdout",
     "output_type": "stream",
     "text": [
      "<f1_score: 0.783 >\n",
      "contamination :  0.33\n"
     ]
    },
    {
     "name": "stderr",
     "output_type": "stream",
     "text": [
      "[I 2023-11-08 15:04:08,305] Trial 98 finished with value: 0.778 and parameters: {'contamination': 0.33}. Best is trial 76 with value: 0.807.\n"
     ]
    },
    {
     "name": "stdout",
     "output_type": "stream",
     "text": [
      "<f1_score: 0.778 >\n",
      "contamination :  0.23\n"
     ]
    },
    {
     "name": "stderr",
     "output_type": "stream",
     "text": [
      "[I 2023-11-08 15:04:08,569] Trial 99 finished with value: 0.779 and parameters: {'contamination': 0.23}. Best is trial 76 with value: 0.807.\n"
     ]
    },
    {
     "name": "stdout",
     "output_type": "stream",
     "text": [
      "<f1_score: 0.779 >\n",
      "study.best_trial.value : 0.807\n",
      "study.best_params : {'contamination': 0.25}\n"
     ]
    }
   ],
   "source": [
    "import optuna\n",
    "from optuna import Trial, visualization\n",
    "from optuna.samplers import TPESampler\n",
    "\n",
    "def optuna_main(trial: optuna.Trial):\n",
    "    contamination = trial.suggest_float('contamination', 0.01, 0.5, step = 0.02)\n",
    "    print('contamination : ', contamination)\n",
    "    f1_score = main_task(contamination=contamination)\n",
    "\n",
    "    print('<f1_score:', f1_score,'>')\n",
    "    return f1_score\n",
    "\n",
    "study = optuna.create_study(direction='maximize')\n",
    "study.optimize(optuna_main, n_trials=100)\n",
    "print(f'study.best_trial.value : {study.best_trial.value}')\n",
    "print(f'study.best_params : {study.best_trial.params}')"
   ]
  },
  {
   "cell_type": "code",
   "execution_count": 11,
   "metadata": {},
   "outputs": [
    {
     "name": "stdout",
     "output_type": "stream",
     "text": [
      "study.best_trial.value : 0.807\n",
      "study.best_paramse : {'contamination': 0.25}\n"
     ]
    }
   ],
   "source": [
    "#결과\n",
    "print(f'study.best_trial.value : {study.best_trial.value}')\n",
    "print(f'study.best_paramse : {study.best_params}')"
   ]
  },
  {
   "cell_type": "code",
   "execution_count": null,
   "metadata": {},
   "outputs": [],
   "source": []
  }
 ],
 "metadata": {
  "kernelspec": {
   "display_name": "Python 3",
   "language": "python",
   "name": "python3"
  },
  "language_info": {
   "codemirror_mode": {
    "name": "ipython",
    "version": 3
   },
   "file_extension": ".py",
   "mimetype": "text/x-python",
   "name": "python",
   "nbconvert_exporter": "python",
   "pygments_lexer": "ipython3",
   "version": "3.10.12"
  }
 },
 "nbformat": 4,
 "nbformat_minor": 2
}
