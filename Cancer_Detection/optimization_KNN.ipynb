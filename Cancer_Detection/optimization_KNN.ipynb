{
 "cells": [
  {
   "cell_type": "code",
   "execution_count": 18,
   "metadata": {},
   "outputs": [],
   "source": [
    "import numpy as np\n",
    "import pandas as pd\n",
    "from sklearn.impute import KNNImputer\n",
    "from sklearn.preprocessing import MinMaxScaler\n",
    "from sklearn.model_selection import train_test_split\n",
    "from sklearn.neighbors import KNeighborsClassifier\n",
    "from sklearn.svm import SVC\n",
    "from sklearn.naive_bayes import GaussianNB\n",
    "from sklearn.tree import DecisionTreeClassifier\n",
    "from sklearn.ensemble import RandomForestClassifier, AdaBoostClassifier\n",
    "from sklearn.metrics import classification_report\n",
    "from pyod.models.iforest import IForest\n",
    "from sklearn.metrics import accuracy_score, f1_score, confusion_matrix, classification_report, precision_score, recall_score\n",
    "from imblearn.over_sampling import SMOTE\n",
    "from imblearn.under_sampling import OneSidedSelection\n",
    "import os\n",
    "from sklearn.neighbors import LocalOutlierFactor\n",
    "import matplotlib.pyplot as plt\n",
    "from sklearn.decomposition import PCA\n",
    "from pyod.models.pca import PCA\n",
    "from sklearn.mixture import GaussianMixture\n",
    "from sklearn.covariance import EllipticEnvelope\n",
    "from sklearn.model_selection import GridSearchCV\n",
    "\n",
    "import os, sys, pickle\n",
    "import argparse, sys\n",
    "\n",
    "import seaborn as sns\n",
    "sns.set_style('white')\n",
    "\n",
    "import warnings\n",
    "warnings.filterwarnings('ignore')\n",
    "\n",
    "\n",
    "\n",
    "# parser = argparse.ArgumentParser()\n",
    "# parser.add_argument('-label', help=' : Please set the label') \n",
    "# args = parser.parse_args()\n",
    "\n",
    "\n",
    "df = pd.read_csv('data/modified_dataset.csv')\n",
    "\n",
    "\n",
    "# def remove_outliers(df, column_name, factor=1.5):\n",
    "#     Q1 = df[column_name].quantile(0.25)\n",
    "#     Q3 = df[column_name].quantile(0.75)\n",
    "#     IQR = Q3 - Q1\n",
    "#     lower_bound = Q1 - factor * IQR\n",
    "#     upper_bound = Q3 + factor * IQR\n",
    "#     df_filtered = df[(df[column_name] >= lower_bound) & (df[column_name] <= upper_bound)]\n",
    "#     return df_filtered\n",
    "\n",
    "# # 모든 칼럼에 대해 이상치 제거 실행\n",
    "# for column_name in df.columns:\n",
    "#     df = remove_outliers(df, column_name)\n",
    "\n",
    "\n",
    "\n",
    "\n",
    "\n",
    "\n",
    "\n",
    "df_stroke_0 = df[df['Cancer'] == 0]\n",
    "df_stroke_1 = df[df['Cancer'] == 1]\n",
    "\n",
    "\n",
    "\n",
    "#train, test data processing 1,2,3,4중 선택\n",
    "\n",
    "#1.정상으로만 학습, 테스트는 정상과 이상 반반\n",
    "answer_label = 'Cancer'\n",
    "# X = df[df.columns.difference([answer_label])]\n",
    "# df_normal = df[df[answer_label] == 0]\n",
    "# df_abnormal = df[df[answer_label] == 1]\n",
    "# test_normal_df = df_normal.sample(n=len(df_stroke_1), random_state = 0)\n",
    "# test_df = pd.concat([df_abnormal, test_normal_df])\n",
    "# X_test = test_df[test_df.columns.difference([answer_label])]\n",
    "# y_test = test_df[answer_label]\n",
    "# train_df = df_normal.drop(test_normal_df.index)\n",
    "# X_train = train_df[train_df.columns.difference([answer_label])]\n",
    "# y_train = train_df[answer_label]\n",
    "\n",
    "#그냥데이터\n",
    "# X = df.drop(answer_label,axis=1)\n",
    "# y = df[answer_label]\n",
    "# X_train,X_test,y_train,y_test = train_test_split(X,y,test_size=0.3,random_state=1)\n",
    "\n",
    "#3.Oversampling by Smote\n",
    "overs = SMOTE(random_state=1)\n",
    "X = df.drop(answer_label,axis=1)\n",
    "y = df[answer_label]\n",
    "X_os, y_os = overs.fit_resample(X,y)\n",
    "X_train,X_test,y_train,y_test = train_test_split(X_os,y_os,test_size=0.3,random_state=1)\n",
    "\n"
   ]
  },
  {
   "cell_type": "code",
   "execution_count": 19,
   "metadata": {},
   "outputs": [],
   "source": [
    "def main_task(n_neighbors, weights, algorithm, metric):\n",
    "    knn = KNeighborsClassifier(n_neighbors = n_neighbors, weights=weights,\n",
    "                               algorithm='brute', metric=metric)\n",
    "    knn.fit(X_train, y_train)\n",
    "    knn_test_pred = knn.predict(X_test)\n",
    "    return round(f1_score(knn_test_pred, y_test),3)"
   ]
  },
  {
   "cell_type": "code",
   "execution_count": 20,
   "metadata": {},
   "outputs": [
    {
     "name": "stdout",
     "output_type": "stream",
     "text": [
      "0.961\n"
     ]
    }
   ],
   "source": [
    "knn = KNeighborsClassifier(n_neighbors = 4, weights='distance',\n",
    "                            algorithm='brute', metric='minkowski')\n",
    "knn.fit(X_train, y_train)\n",
    "knn_test_pred = knn.predict(X_test)\n",
    "print(round(f1_score(knn_test_pred, y_test),3))"
   ]
  },
  {
   "cell_type": "code",
   "execution_count": 21,
   "metadata": {},
   "outputs": [
    {
     "name": "stderr",
     "output_type": "stream",
     "text": [
      "[I 2023-11-08 15:33:35,075] A new study created in memory with name: no-name-0545685e-578f-4e57-a580-0513f3108014\n",
      "[I 2023-11-08 15:33:35,529] Trial 0 finished with value: 0.945 and parameters: {'n_neighbors': 15, 'weights': 'uniform', 'algorithm': 'brute', 'metric': 'euclidean'}. Best is trial 0 with value: 0.945.\n",
      "[I 2023-11-08 15:33:35,715] Trial 1 finished with value: 0.955 and parameters: {'n_neighbors': 7, 'weights': 'distance', 'algorithm': 'brute', 'metric': 'euclidean'}. Best is trial 1 with value: 0.955.\n"
     ]
    },
    {
     "name": "stdout",
     "output_type": "stream",
     "text": [
      "<f1_score: 0.945 >\n",
      "<f1_score: 0.955 >\n"
     ]
    },
    {
     "name": "stderr",
     "output_type": "stream",
     "text": [
      "[I 2023-11-08 15:33:36,309] Trial 2 finished with value: 0.96 and parameters: {'n_neighbors': 6, 'weights': 'distance', 'algorithm': 'brute', 'metric': 'manhattan'}. Best is trial 2 with value: 0.96.\n"
     ]
    },
    {
     "name": "stdout",
     "output_type": "stream",
     "text": [
      "<f1_score: 0.96 >\n"
     ]
    },
    {
     "name": "stderr",
     "output_type": "stream",
     "text": [
      "[I 2023-11-08 15:33:36,852] Trial 3 finished with value: 0.941 and parameters: {'n_neighbors': 20, 'weights': 'uniform', 'algorithm': 'ball_tree', 'metric': 'euclidean'}. Best is trial 2 with value: 0.96.\n"
     ]
    },
    {
     "name": "stdout",
     "output_type": "stream",
     "text": [
      "<f1_score: 0.941 >\n",
      "<f1_score: 0.947 >\n"
     ]
    },
    {
     "name": "stderr",
     "output_type": "stream",
     "text": [
      "[I 2023-11-08 15:33:37,054] Trial 4 finished with value: 0.947 and parameters: {'n_neighbors': 19, 'weights': 'distance', 'algorithm': 'ball_tree', 'metric': 'minkowski'}. Best is trial 2 with value: 0.96.\n",
      "[I 2023-11-08 15:33:37,240] Trial 5 finished with value: 0.955 and parameters: {'n_neighbors': 10, 'weights': 'distance', 'algorithm': 'ball_tree', 'metric': 'minkowski'}. Best is trial 2 with value: 0.96.\n"
     ]
    },
    {
     "name": "stdout",
     "output_type": "stream",
     "text": [
      "<f1_score: 0.955 >\n"
     ]
    },
    {
     "name": "stderr",
     "output_type": "stream",
     "text": [
      "[I 2023-11-08 15:33:37,751] Trial 6 finished with value: 0.954 and parameters: {'n_neighbors': 13, 'weights': 'distance', 'algorithm': 'ball_tree', 'metric': 'manhattan'}. Best is trial 2 with value: 0.96.\n"
     ]
    },
    {
     "name": "stdout",
     "output_type": "stream",
     "text": [
      "<f1_score: 0.954 >\n"
     ]
    },
    {
     "name": "stderr",
     "output_type": "stream",
     "text": [
      "[I 2023-11-08 15:33:38,274] Trial 7 finished with value: 0.95 and parameters: {'n_neighbors': 18, 'weights': 'distance', 'algorithm': 'brute', 'metric': 'manhattan'}. Best is trial 2 with value: 0.96.\n"
     ]
    },
    {
     "name": "stdout",
     "output_type": "stream",
     "text": [
      "<f1_score: 0.95 >\n"
     ]
    },
    {
     "name": "stderr",
     "output_type": "stream",
     "text": [
      "[I 2023-11-08 15:33:38,737] Trial 8 finished with value: 0.941 and parameters: {'n_neighbors': 20, 'weights': 'uniform', 'algorithm': 'auto', 'metric': 'euclidean'}. Best is trial 2 with value: 0.96.\n"
     ]
    },
    {
     "name": "stdout",
     "output_type": "stream",
     "text": [
      "<f1_score: 0.941 >\n"
     ]
    },
    {
     "name": "stderr",
     "output_type": "stream",
     "text": [
      "[I 2023-11-08 15:33:39,193] Trial 9 finished with value: 0.951 and parameters: {'n_neighbors': 10, 'weights': 'uniform', 'algorithm': 'kd_tree', 'metric': 'euclidean'}. Best is trial 2 with value: 0.96.\n"
     ]
    },
    {
     "name": "stdout",
     "output_type": "stream",
     "text": [
      "<f1_score: 0.951 >\n"
     ]
    },
    {
     "name": "stderr",
     "output_type": "stream",
     "text": [
      "[I 2023-11-08 15:33:39,677] Trial 10 finished with value: 0.959 and parameters: {'n_neighbors': 5, 'weights': 'distance', 'algorithm': 'kd_tree', 'metric': 'manhattan'}. Best is trial 2 with value: 0.96.\n"
     ]
    },
    {
     "name": "stdout",
     "output_type": "stream",
     "text": [
      "<f1_score: 0.959 >\n"
     ]
    },
    {
     "name": "stderr",
     "output_type": "stream",
     "text": [
      "[I 2023-11-08 15:33:40,127] Trial 11 finished with value: 0.959 and parameters: {'n_neighbors': 5, 'weights': 'distance', 'algorithm': 'kd_tree', 'metric': 'manhattan'}. Best is trial 2 with value: 0.96.\n"
     ]
    },
    {
     "name": "stdout",
     "output_type": "stream",
     "text": [
      "<f1_score: 0.959 >\n"
     ]
    },
    {
     "name": "stderr",
     "output_type": "stream",
     "text": [
      "[I 2023-11-08 15:33:40,619] Trial 12 finished with value: 0.959 and parameters: {'n_neighbors': 5, 'weights': 'distance', 'algorithm': 'kd_tree', 'metric': 'manhattan'}. Best is trial 2 with value: 0.96.\n"
     ]
    },
    {
     "name": "stdout",
     "output_type": "stream",
     "text": [
      "<f1_score: 0.959 >\n"
     ]
    },
    {
     "name": "stderr",
     "output_type": "stream",
     "text": [
      "[I 2023-11-08 15:33:41,127] Trial 13 finished with value: 0.957 and parameters: {'n_neighbors': 8, 'weights': 'distance', 'algorithm': 'auto', 'metric': 'manhattan'}. Best is trial 2 with value: 0.96.\n"
     ]
    },
    {
     "name": "stdout",
     "output_type": "stream",
     "text": [
      "<f1_score: 0.957 >\n"
     ]
    },
    {
     "name": "stderr",
     "output_type": "stream",
     "text": [
      "[I 2023-11-08 15:33:41,671] Trial 14 finished with value: 0.957 and parameters: {'n_neighbors': 8, 'weights': 'distance', 'algorithm': 'brute', 'metric': 'manhattan'}. Best is trial 2 with value: 0.96.\n"
     ]
    },
    {
     "name": "stdout",
     "output_type": "stream",
     "text": [
      "<f1_score: 0.957 >\n"
     ]
    },
    {
     "name": "stderr",
     "output_type": "stream",
     "text": [
      "[I 2023-11-08 15:33:42,229] Trial 15 finished with value: 0.955 and parameters: {'n_neighbors': 11, 'weights': 'distance', 'algorithm': 'kd_tree', 'metric': 'manhattan'}. Best is trial 2 with value: 0.96.\n",
      "[I 2023-11-08 15:33:42,426] Trial 16 finished with value: 0.957 and parameters: {'n_neighbors': 6, 'weights': 'distance', 'algorithm': 'brute', 'metric': 'minkowski'}. Best is trial 2 with value: 0.96.\n"
     ]
    },
    {
     "name": "stdout",
     "output_type": "stream",
     "text": [
      "<f1_score: 0.955 >\n",
      "<f1_score: 0.957 >\n"
     ]
    },
    {
     "name": "stderr",
     "output_type": "stream",
     "text": [
      "[I 2023-11-08 15:33:42,956] Trial 17 finished with value: 0.952 and parameters: {'n_neighbors': 14, 'weights': 'distance', 'algorithm': 'kd_tree', 'metric': 'manhattan'}. Best is trial 2 with value: 0.96.\n"
     ]
    },
    {
     "name": "stdout",
     "output_type": "stream",
     "text": [
      "<f1_score: 0.952 >\n"
     ]
    },
    {
     "name": "stderr",
     "output_type": "stream",
     "text": [
      "[I 2023-11-08 15:33:43,728] Trial 18 finished with value: 0.954 and parameters: {'n_neighbors': 8, 'weights': 'uniform', 'algorithm': 'auto', 'metric': 'manhattan'}. Best is trial 2 with value: 0.96.\n"
     ]
    },
    {
     "name": "stdout",
     "output_type": "stream",
     "text": [
      "<f1_score: 0.954 >\n"
     ]
    },
    {
     "name": "stderr",
     "output_type": "stream",
     "text": [
      "[I 2023-11-08 15:33:44,226] Trial 19 finished with value: 0.951 and parameters: {'n_neighbors': 16, 'weights': 'distance', 'algorithm': 'brute', 'metric': 'manhattan'}. Best is trial 2 with value: 0.96.\n"
     ]
    },
    {
     "name": "stdout",
     "output_type": "stream",
     "text": [
      "<f1_score: 0.951 >\n"
     ]
    },
    {
     "name": "stderr",
     "output_type": "stream",
     "text": [
      "[I 2023-11-08 15:33:44,431] Trial 20 finished with value: 0.954 and parameters: {'n_neighbors': 11, 'weights': 'distance', 'algorithm': 'kd_tree', 'metric': 'minkowski'}. Best is trial 2 with value: 0.96.\n"
     ]
    },
    {
     "name": "stdout",
     "output_type": "stream",
     "text": [
      "<f1_score: 0.954 >\n"
     ]
    },
    {
     "name": "stderr",
     "output_type": "stream",
     "text": [
      "[I 2023-11-08 15:33:44,948] Trial 21 finished with value: 0.959 and parameters: {'n_neighbors': 5, 'weights': 'distance', 'algorithm': 'kd_tree', 'metric': 'manhattan'}. Best is trial 2 with value: 0.96.\n"
     ]
    },
    {
     "name": "stdout",
     "output_type": "stream",
     "text": [
      "<f1_score: 0.959 >\n"
     ]
    },
    {
     "name": "stderr",
     "output_type": "stream",
     "text": [
      "[I 2023-11-08 15:33:45,481] Trial 22 finished with value: 0.96 and parameters: {'n_neighbors': 6, 'weights': 'distance', 'algorithm': 'kd_tree', 'metric': 'manhattan'}. Best is trial 2 with value: 0.96.\n"
     ]
    },
    {
     "name": "stdout",
     "output_type": "stream",
     "text": [
      "<f1_score: 0.96 >\n"
     ]
    },
    {
     "name": "stderr",
     "output_type": "stream",
     "text": [
      "[I 2023-11-08 15:33:45,955] Trial 23 finished with value: 0.956 and parameters: {'n_neighbors': 7, 'weights': 'distance', 'algorithm': 'kd_tree', 'metric': 'manhattan'}. Best is trial 2 with value: 0.96.\n"
     ]
    },
    {
     "name": "stdout",
     "output_type": "stream",
     "text": [
      "<f1_score: 0.956 >\n"
     ]
    },
    {
     "name": "stderr",
     "output_type": "stream",
     "text": [
      "[I 2023-11-08 15:33:46,479] Trial 24 finished with value: 0.956 and parameters: {'n_neighbors': 7, 'weights': 'distance', 'algorithm': 'kd_tree', 'metric': 'manhattan'}. Best is trial 2 with value: 0.96.\n"
     ]
    },
    {
     "name": "stdout",
     "output_type": "stream",
     "text": [
      "<f1_score: 0.956 >\n"
     ]
    },
    {
     "name": "stderr",
     "output_type": "stream",
     "text": [
      "[I 2023-11-08 15:33:47,065] Trial 25 finished with value: 0.955 and parameters: {'n_neighbors': 9, 'weights': 'distance', 'algorithm': 'kd_tree', 'metric': 'manhattan'}. Best is trial 2 with value: 0.96.\n"
     ]
    },
    {
     "name": "stdout",
     "output_type": "stream",
     "text": [
      "<f1_score: 0.955 >\n"
     ]
    },
    {
     "name": "stderr",
     "output_type": "stream",
     "text": [
      "[I 2023-11-08 15:33:47,565] Trial 26 finished with value: 0.96 and parameters: {'n_neighbors': 6, 'weights': 'distance', 'algorithm': 'brute', 'metric': 'manhattan'}. Best is trial 2 with value: 0.96.\n"
     ]
    },
    {
     "name": "stdout",
     "output_type": "stream",
     "text": [
      "<f1_score: 0.96 >\n"
     ]
    },
    {
     "name": "stderr",
     "output_type": "stream",
     "text": [
      "[I 2023-11-08 15:33:48,276] Trial 27 finished with value: 0.957 and parameters: {'n_neighbors': 6, 'weights': 'uniform', 'algorithm': 'brute', 'metric': 'manhattan'}. Best is trial 2 with value: 0.96.\n"
     ]
    },
    {
     "name": "stdout",
     "output_type": "stream",
     "text": [
      "<f1_score: 0.957 >\n"
     ]
    },
    {
     "name": "stderr",
     "output_type": "stream",
     "text": [
      "[I 2023-11-08 15:33:48,777] Trial 28 finished with value: 0.955 and parameters: {'n_neighbors': 9, 'weights': 'distance', 'algorithm': 'brute', 'metric': 'manhattan'}. Best is trial 2 with value: 0.96.\n"
     ]
    },
    {
     "name": "stdout",
     "output_type": "stream",
     "text": [
      "<f1_score: 0.955 >\n"
     ]
    },
    {
     "name": "stderr",
     "output_type": "stream",
     "text": [
      "[I 2023-11-08 15:33:49,212] Trial 29 finished with value: 0.945 and parameters: {'n_neighbors': 16, 'weights': 'uniform', 'algorithm': 'brute', 'metric': 'minkowski'}. Best is trial 2 with value: 0.96.\n",
      "[I 2023-11-08 15:33:49,403] Trial 30 finished with value: 0.954 and parameters: {'n_neighbors': 12, 'weights': 'distance', 'algorithm': 'brute', 'metric': 'euclidean'}. Best is trial 2 with value: 0.96.\n"
     ]
    },
    {
     "name": "stdout",
     "output_type": "stream",
     "text": [
      "<f1_score: 0.945 >\n",
      "<f1_score: 0.954 >\n"
     ]
    },
    {
     "name": "stderr",
     "output_type": "stream",
     "text": [
      "[I 2023-11-08 15:33:49,921] Trial 31 finished with value: 0.96 and parameters: {'n_neighbors': 6, 'weights': 'distance', 'algorithm': 'brute', 'metric': 'manhattan'}. Best is trial 2 with value: 0.96.\n"
     ]
    },
    {
     "name": "stdout",
     "output_type": "stream",
     "text": [
      "<f1_score: 0.96 >\n"
     ]
    },
    {
     "name": "stderr",
     "output_type": "stream",
     "text": [
      "[I 2023-11-08 15:33:50,435] Trial 32 finished with value: 0.96 and parameters: {'n_neighbors': 6, 'weights': 'distance', 'algorithm': 'brute', 'metric': 'manhattan'}. Best is trial 2 with value: 0.96.\n"
     ]
    },
    {
     "name": "stdout",
     "output_type": "stream",
     "text": [
      "<f1_score: 0.96 >\n"
     ]
    },
    {
     "name": "stderr",
     "output_type": "stream",
     "text": [
      "[I 2023-11-08 15:33:50,958] Trial 33 finished with value: 0.956 and parameters: {'n_neighbors': 7, 'weights': 'distance', 'algorithm': 'brute', 'metric': 'manhattan'}. Best is trial 2 with value: 0.96.\n"
     ]
    },
    {
     "name": "stdout",
     "output_type": "stream",
     "text": [
      "<f1_score: 0.956 >\n"
     ]
    },
    {
     "name": "stderr",
     "output_type": "stream",
     "text": [
      "[I 2023-11-08 15:33:51,463] Trial 34 finished with value: 0.96 and parameters: {'n_neighbors': 6, 'weights': 'distance', 'algorithm': 'brute', 'metric': 'manhattan'}. Best is trial 2 with value: 0.96.\n",
      "[I 2023-11-08 15:33:51,653] Trial 35 finished with value: 0.955 and parameters: {'n_neighbors': 9, 'weights': 'distance', 'algorithm': 'brute', 'metric': 'euclidean'}. Best is trial 2 with value: 0.96.\n"
     ]
    },
    {
     "name": "stdout",
     "output_type": "stream",
     "text": [
      "<f1_score: 0.96 >\n",
      "<f1_score: 0.955 >\n"
     ]
    },
    {
     "name": "stderr",
     "output_type": "stream",
     "text": [
      "[I 2023-11-08 15:33:52,238] Trial 36 finished with value: 0.957 and parameters: {'n_neighbors': 8, 'weights': 'distance', 'algorithm': 'ball_tree', 'metric': 'manhattan'}. Best is trial 2 with value: 0.96.\n"
     ]
    },
    {
     "name": "stdout",
     "output_type": "stream",
     "text": [
      "<f1_score: 0.957 >\n"
     ]
    },
    {
     "name": "stderr",
     "output_type": "stream",
     "text": [
      "[I 2023-11-08 15:33:52,650] Trial 37 finished with value: 0.955 and parameters: {'n_neighbors': 6, 'weights': 'uniform', 'algorithm': 'brute', 'metric': 'minkowski'}. Best is trial 2 with value: 0.96.\n"
     ]
    },
    {
     "name": "stdout",
     "output_type": "stream",
     "text": [
      "<f1_score: 0.955 >\n"
     ]
    },
    {
     "name": "stderr",
     "output_type": "stream",
     "text": [
      "[I 2023-11-08 15:33:53,180] Trial 38 finished with value: 0.956 and parameters: {'n_neighbors': 7, 'weights': 'distance', 'algorithm': 'ball_tree', 'metric': 'manhattan'}. Best is trial 2 with value: 0.96.\n",
      "[I 2023-11-08 15:33:53,381] Trial 39 finished with value: 0.955 and parameters: {'n_neighbors': 10, 'weights': 'distance', 'algorithm': 'auto', 'metric': 'euclidean'}. Best is trial 2 with value: 0.96.\n"
     ]
    },
    {
     "name": "stdout",
     "output_type": "stream",
     "text": [
      "<f1_score: 0.956 >\n",
      "<f1_score: 0.955 >\n"
     ]
    },
    {
     "name": "stderr",
     "output_type": "stream",
     "text": [
      "[I 2023-11-08 15:33:54,101] Trial 40 finished with value: 0.956 and parameters: {'n_neighbors': 5, 'weights': 'uniform', 'algorithm': 'brute', 'metric': 'manhattan'}. Best is trial 2 with value: 0.96.\n"
     ]
    },
    {
     "name": "stdout",
     "output_type": "stream",
     "text": [
      "<f1_score: 0.956 >\n"
     ]
    },
    {
     "name": "stderr",
     "output_type": "stream",
     "text": [
      "[I 2023-11-08 15:33:54,610] Trial 41 finished with value: 0.96 and parameters: {'n_neighbors': 6, 'weights': 'distance', 'algorithm': 'brute', 'metric': 'manhattan'}. Best is trial 2 with value: 0.96.\n"
     ]
    },
    {
     "name": "stdout",
     "output_type": "stream",
     "text": [
      "<f1_score: 0.96 >\n"
     ]
    },
    {
     "name": "stderr",
     "output_type": "stream",
     "text": [
      "[I 2023-11-08 15:33:55,123] Trial 42 finished with value: 0.956 and parameters: {'n_neighbors': 7, 'weights': 'distance', 'algorithm': 'brute', 'metric': 'manhattan'}. Best is trial 2 with value: 0.96.\n"
     ]
    },
    {
     "name": "stdout",
     "output_type": "stream",
     "text": [
      "<f1_score: 0.956 >\n"
     ]
    },
    {
     "name": "stderr",
     "output_type": "stream",
     "text": [
      "[I 2023-11-08 15:33:55,627] Trial 43 finished with value: 0.96 and parameters: {'n_neighbors': 6, 'weights': 'distance', 'algorithm': 'brute', 'metric': 'manhattan'}. Best is trial 2 with value: 0.96.\n"
     ]
    },
    {
     "name": "stdout",
     "output_type": "stream",
     "text": [
      "<f1_score: 0.96 >\n"
     ]
    },
    {
     "name": "stderr",
     "output_type": "stream",
     "text": [
      "[I 2023-11-08 15:33:56,149] Trial 44 finished with value: 0.959 and parameters: {'n_neighbors': 5, 'weights': 'distance', 'algorithm': 'brute', 'metric': 'manhattan'}. Best is trial 2 with value: 0.96.\n"
     ]
    },
    {
     "name": "stdout",
     "output_type": "stream",
     "text": [
      "<f1_score: 0.959 >\n"
     ]
    },
    {
     "name": "stderr",
     "output_type": "stream",
     "text": [
      "[I 2023-11-08 15:33:56,638] Trial 45 finished with value: 0.957 and parameters: {'n_neighbors': 8, 'weights': 'distance', 'algorithm': 'ball_tree', 'metric': 'manhattan'}. Best is trial 2 with value: 0.96.\n"
     ]
    },
    {
     "name": "stdout",
     "output_type": "stream",
     "text": [
      "<f1_score: 0.957 >\n"
     ]
    },
    {
     "name": "stderr",
     "output_type": "stream",
     "text": [
      "[I 2023-11-08 15:33:57,122] Trial 46 finished with value: 0.956 and parameters: {'n_neighbors': 7, 'weights': 'distance', 'algorithm': 'brute', 'metric': 'manhattan'}. Best is trial 2 with value: 0.96.\n"
     ]
    },
    {
     "name": "stdout",
     "output_type": "stream",
     "text": [
      "<f1_score: 0.956 >\n"
     ]
    },
    {
     "name": "stderr",
     "output_type": "stream",
     "text": [
      "[I 2023-11-08 15:33:57,381] Trial 47 finished with value: 0.956 and parameters: {'n_neighbors': 5, 'weights': 'distance', 'algorithm': 'brute', 'metric': 'euclidean'}. Best is trial 2 with value: 0.96.\n"
     ]
    },
    {
     "name": "stdout",
     "output_type": "stream",
     "text": [
      "<f1_score: 0.956 >\n"
     ]
    },
    {
     "name": "stderr",
     "output_type": "stream",
     "text": [
      "[I 2023-11-08 15:33:57,994] Trial 48 finished with value: 0.955 and parameters: {'n_neighbors': 9, 'weights': 'distance', 'algorithm': 'auto', 'metric': 'manhattan'}. Best is trial 2 with value: 0.96.\n",
      "[I 2023-11-08 15:33:58,181] Trial 49 finished with value: 0.957 and parameters: {'n_neighbors': 6, 'weights': 'distance', 'algorithm': 'brute', 'metric': 'minkowski'}. Best is trial 2 with value: 0.96.\n"
     ]
    },
    {
     "name": "stdout",
     "output_type": "stream",
     "text": [
      "<f1_score: 0.955 >\n",
      "<f1_score: 0.957 >\n"
     ]
    },
    {
     "name": "stderr",
     "output_type": "stream",
     "text": [
      "[I 2023-11-08 15:33:58,735] Trial 50 finished with value: 0.957 and parameters: {'n_neighbors': 8, 'weights': 'distance', 'algorithm': 'brute', 'metric': 'manhattan'}. Best is trial 2 with value: 0.96.\n"
     ]
    },
    {
     "name": "stdout",
     "output_type": "stream",
     "text": [
      "<f1_score: 0.957 >\n"
     ]
    },
    {
     "name": "stderr",
     "output_type": "stream",
     "text": [
      "[I 2023-11-08 15:33:59,258] Trial 51 finished with value: 0.96 and parameters: {'n_neighbors': 6, 'weights': 'distance', 'algorithm': 'brute', 'metric': 'manhattan'}. Best is trial 2 with value: 0.96.\n"
     ]
    },
    {
     "name": "stdout",
     "output_type": "stream",
     "text": [
      "<f1_score: 0.96 >\n"
     ]
    },
    {
     "name": "stderr",
     "output_type": "stream",
     "text": [
      "[I 2023-11-08 15:33:59,812] Trial 52 finished with value: 0.959 and parameters: {'n_neighbors': 5, 'weights': 'distance', 'algorithm': 'brute', 'metric': 'manhattan'}. Best is trial 2 with value: 0.96.\n"
     ]
    },
    {
     "name": "stdout",
     "output_type": "stream",
     "text": [
      "<f1_score: 0.959 >\n"
     ]
    },
    {
     "name": "stderr",
     "output_type": "stream",
     "text": [
      "[I 2023-11-08 15:34:00,443] Trial 53 finished with value: 0.95 and parameters: {'n_neighbors': 18, 'weights': 'distance', 'algorithm': 'brute', 'metric': 'manhattan'}. Best is trial 2 with value: 0.96.\n"
     ]
    },
    {
     "name": "stdout",
     "output_type": "stream",
     "text": [
      "<f1_score: 0.95 >\n"
     ]
    },
    {
     "name": "stderr",
     "output_type": "stream",
     "text": [
      "[I 2023-11-08 15:34:00,992] Trial 54 finished with value: 0.96 and parameters: {'n_neighbors': 6, 'weights': 'distance', 'algorithm': 'brute', 'metric': 'manhattan'}. Best is trial 2 with value: 0.96.\n"
     ]
    },
    {
     "name": "stdout",
     "output_type": "stream",
     "text": [
      "<f1_score: 0.96 >\n"
     ]
    },
    {
     "name": "stderr",
     "output_type": "stream",
     "text": [
      "[I 2023-11-08 15:34:01,579] Trial 55 finished with value: 0.956 and parameters: {'n_neighbors': 7, 'weights': 'distance', 'algorithm': 'auto', 'metric': 'manhattan'}. Best is trial 2 with value: 0.96.\n"
     ]
    },
    {
     "name": "stdout",
     "output_type": "stream",
     "text": [
      "<f1_score: 0.956 >\n"
     ]
    },
    {
     "name": "stderr",
     "output_type": "stream",
     "text": [
      "[I 2023-11-08 15:34:02,251] Trial 56 finished with value: 0.959 and parameters: {'n_neighbors': 5, 'weights': 'distance', 'algorithm': 'kd_tree', 'metric': 'manhattan'}. Best is trial 2 with value: 0.96.\n"
     ]
    },
    {
     "name": "stdout",
     "output_type": "stream",
     "text": [
      "<f1_score: 0.959 >\n"
     ]
    },
    {
     "name": "stderr",
     "output_type": "stream",
     "text": [
      "[I 2023-11-08 15:34:03,206] Trial 57 finished with value: 0.957 and parameters: {'n_neighbors': 6, 'weights': 'uniform', 'algorithm': 'brute', 'metric': 'manhattan'}. Best is trial 2 with value: 0.96.\n"
     ]
    },
    {
     "name": "stdout",
     "output_type": "stream",
     "text": [
      "<f1_score: 0.957 >\n"
     ]
    },
    {
     "name": "stderr",
     "output_type": "stream",
     "text": [
      "[I 2023-11-08 15:34:03,722] Trial 58 finished with value: 0.957 and parameters: {'n_neighbors': 8, 'weights': 'distance', 'algorithm': 'ball_tree', 'metric': 'manhattan'}. Best is trial 2 with value: 0.96.\n",
      "[I 2023-11-08 15:34:03,922] Trial 59 finished with value: 0.955 and parameters: {'n_neighbors': 7, 'weights': 'distance', 'algorithm': 'kd_tree', 'metric': 'minkowski'}. Best is trial 2 with value: 0.96.\n"
     ]
    },
    {
     "name": "stdout",
     "output_type": "stream",
     "text": [
      "<f1_score: 0.957 >\n",
      "<f1_score: 0.955 >\n"
     ]
    },
    {
     "name": "stderr",
     "output_type": "stream",
     "text": [
      "[I 2023-11-08 15:34:04,427] Trial 60 finished with value: 0.954 and parameters: {'n_neighbors': 13, 'weights': 'distance', 'algorithm': 'brute', 'metric': 'manhattan'}. Best is trial 2 with value: 0.96.\n"
     ]
    },
    {
     "name": "stdout",
     "output_type": "stream",
     "text": [
      "<f1_score: 0.954 >\n"
     ]
    },
    {
     "name": "stderr",
     "output_type": "stream",
     "text": [
      "[I 2023-11-08 15:34:04,975] Trial 61 finished with value: 0.96 and parameters: {'n_neighbors': 6, 'weights': 'distance', 'algorithm': 'brute', 'metric': 'manhattan'}. Best is trial 2 with value: 0.96.\n"
     ]
    },
    {
     "name": "stdout",
     "output_type": "stream",
     "text": [
      "<f1_score: 0.96 >\n"
     ]
    },
    {
     "name": "stderr",
     "output_type": "stream",
     "text": [
      "[I 2023-11-08 15:34:05,557] Trial 62 finished with value: 0.959 and parameters: {'n_neighbors': 5, 'weights': 'distance', 'algorithm': 'brute', 'metric': 'manhattan'}. Best is trial 2 with value: 0.96.\n"
     ]
    },
    {
     "name": "stdout",
     "output_type": "stream",
     "text": [
      "<f1_score: 0.959 >\n"
     ]
    },
    {
     "name": "stderr",
     "output_type": "stream",
     "text": [
      "[I 2023-11-08 15:34:06,106] Trial 63 finished with value: 0.96 and parameters: {'n_neighbors': 6, 'weights': 'distance', 'algorithm': 'brute', 'metric': 'manhattan'}. Best is trial 2 with value: 0.96.\n"
     ]
    },
    {
     "name": "stdout",
     "output_type": "stream",
     "text": [
      "<f1_score: 0.96 >\n"
     ]
    },
    {
     "name": "stderr",
     "output_type": "stream",
     "text": [
      "[I 2023-11-08 15:34:06,721] Trial 64 finished with value: 0.956 and parameters: {'n_neighbors': 7, 'weights': 'distance', 'algorithm': 'brute', 'metric': 'manhattan'}. Best is trial 2 with value: 0.96.\n"
     ]
    },
    {
     "name": "stdout",
     "output_type": "stream",
     "text": [
      "<f1_score: 0.956 >\n"
     ]
    },
    {
     "name": "stderr",
     "output_type": "stream",
     "text": [
      "[I 2023-11-08 15:34:07,284] Trial 65 finished with value: 0.96 and parameters: {'n_neighbors': 6, 'weights': 'distance', 'algorithm': 'brute', 'metric': 'manhattan'}. Best is trial 2 with value: 0.96.\n"
     ]
    },
    {
     "name": "stdout",
     "output_type": "stream",
     "text": [
      "<f1_score: 0.96 >\n"
     ]
    },
    {
     "name": "stderr",
     "output_type": "stream",
     "text": [
      "[I 2023-11-08 15:34:07,519] Trial 66 finished with value: 0.956 and parameters: {'n_neighbors': 8, 'weights': 'distance', 'algorithm': 'kd_tree', 'metric': 'euclidean'}. Best is trial 2 with value: 0.96.\n"
     ]
    },
    {
     "name": "stdout",
     "output_type": "stream",
     "text": [
      "<f1_score: 0.956 >\n"
     ]
    },
    {
     "name": "stderr",
     "output_type": "stream",
     "text": [
      "[I 2023-11-08 15:34:08,535] Trial 67 finished with value: 0.956 and parameters: {'n_neighbors': 5, 'weights': 'uniform', 'algorithm': 'brute', 'metric': 'manhattan'}. Best is trial 2 with value: 0.96.\n"
     ]
    },
    {
     "name": "stdout",
     "output_type": "stream",
     "text": [
      "<f1_score: 0.956 >\n"
     ]
    },
    {
     "name": "stderr",
     "output_type": "stream",
     "text": [
      "[I 2023-11-08 15:34:09,096] Trial 68 finished with value: 0.956 and parameters: {'n_neighbors': 7, 'weights': 'distance', 'algorithm': 'brute', 'metric': 'manhattan'}. Best is trial 2 with value: 0.96.\n"
     ]
    },
    {
     "name": "stdout",
     "output_type": "stream",
     "text": [
      "<f1_score: 0.956 >\n"
     ]
    },
    {
     "name": "stderr",
     "output_type": "stream",
     "text": [
      "[I 2023-11-08 15:34:09,627] Trial 69 finished with value: 0.956 and parameters: {'n_neighbors': 10, 'weights': 'distance', 'algorithm': 'kd_tree', 'metric': 'manhattan'}. Best is trial 2 with value: 0.96.\n"
     ]
    },
    {
     "name": "stdout",
     "output_type": "stream",
     "text": [
      "<f1_score: 0.956 >\n"
     ]
    },
    {
     "name": "stderr",
     "output_type": "stream",
     "text": [
      "[I 2023-11-08 15:34:10,176] Trial 70 finished with value: 0.96 and parameters: {'n_neighbors': 6, 'weights': 'distance', 'algorithm': 'brute', 'metric': 'manhattan'}. Best is trial 2 with value: 0.96.\n"
     ]
    },
    {
     "name": "stdout",
     "output_type": "stream",
     "text": [
      "<f1_score: 0.96 >\n"
     ]
    },
    {
     "name": "stderr",
     "output_type": "stream",
     "text": [
      "[I 2023-11-08 15:34:10,695] Trial 71 finished with value: 0.96 and parameters: {'n_neighbors': 6, 'weights': 'distance', 'algorithm': 'brute', 'metric': 'manhattan'}. Best is trial 2 with value: 0.96.\n"
     ]
    },
    {
     "name": "stdout",
     "output_type": "stream",
     "text": [
      "<f1_score: 0.96 >\n"
     ]
    },
    {
     "name": "stderr",
     "output_type": "stream",
     "text": [
      "[I 2023-11-08 15:34:11,239] Trial 72 finished with value: 0.959 and parameters: {'n_neighbors': 5, 'weights': 'distance', 'algorithm': 'brute', 'metric': 'manhattan'}. Best is trial 2 with value: 0.96.\n"
     ]
    },
    {
     "name": "stdout",
     "output_type": "stream",
     "text": [
      "<f1_score: 0.959 >\n"
     ]
    },
    {
     "name": "stderr",
     "output_type": "stream",
     "text": [
      "[I 2023-11-08 15:34:11,802] Trial 73 finished with value: 0.956 and parameters: {'n_neighbors': 7, 'weights': 'distance', 'algorithm': 'brute', 'metric': 'manhattan'}. Best is trial 2 with value: 0.96.\n"
     ]
    },
    {
     "name": "stdout",
     "output_type": "stream",
     "text": [
      "<f1_score: 0.956 >\n"
     ]
    },
    {
     "name": "stderr",
     "output_type": "stream",
     "text": [
      "[I 2023-11-08 15:34:12,389] Trial 74 finished with value: 0.96 and parameters: {'n_neighbors': 6, 'weights': 'distance', 'algorithm': 'brute', 'metric': 'manhattan'}. Best is trial 2 with value: 0.96.\n"
     ]
    },
    {
     "name": "stdout",
     "output_type": "stream",
     "text": [
      "<f1_score: 0.96 >\n"
     ]
    },
    {
     "name": "stderr",
     "output_type": "stream",
     "text": [
      "[I 2023-11-08 15:34:12,962] Trial 75 finished with value: 0.956 and parameters: {'n_neighbors': 7, 'weights': 'distance', 'algorithm': 'auto', 'metric': 'manhattan'}. Best is trial 2 with value: 0.96.\n"
     ]
    },
    {
     "name": "stdout",
     "output_type": "stream",
     "text": [
      "<f1_score: 0.956 >\n"
     ]
    },
    {
     "name": "stderr",
     "output_type": "stream",
     "text": [
      "[I 2023-11-08 15:34:13,268] Trial 76 finished with value: 0.956 and parameters: {'n_neighbors': 8, 'weights': 'distance', 'algorithm': 'ball_tree', 'metric': 'minkowski'}. Best is trial 2 with value: 0.96.\n"
     ]
    },
    {
     "name": "stdout",
     "output_type": "stream",
     "text": [
      "<f1_score: 0.956 >\n"
     ]
    },
    {
     "name": "stderr",
     "output_type": "stream",
     "text": [
      "[I 2023-11-08 15:34:13,832] Trial 77 finished with value: 0.947 and parameters: {'n_neighbors': 14, 'weights': 'uniform', 'algorithm': 'brute', 'metric': 'euclidean'}. Best is trial 2 with value: 0.96.\n"
     ]
    },
    {
     "name": "stdout",
     "output_type": "stream",
     "text": [
      "<f1_score: 0.947 >\n"
     ]
    },
    {
     "name": "stderr",
     "output_type": "stream",
     "text": [
      "[I 2023-11-08 15:34:14,414] Trial 78 finished with value: 0.959 and parameters: {'n_neighbors': 5, 'weights': 'distance', 'algorithm': 'brute', 'metric': 'manhattan'}. Best is trial 2 with value: 0.96.\n"
     ]
    },
    {
     "name": "stdout",
     "output_type": "stream",
     "text": [
      "<f1_score: 0.959 >\n"
     ]
    },
    {
     "name": "stderr",
     "output_type": "stream",
     "text": [
      "[I 2023-11-08 15:34:15,031] Trial 79 finished with value: 0.955 and parameters: {'n_neighbors': 11, 'weights': 'distance', 'algorithm': 'brute', 'metric': 'manhattan'}. Best is trial 2 with value: 0.96.\n"
     ]
    },
    {
     "name": "stdout",
     "output_type": "stream",
     "text": [
      "<f1_score: 0.955 >\n"
     ]
    },
    {
     "name": "stderr",
     "output_type": "stream",
     "text": [
      "[I 2023-11-08 15:34:15,554] Trial 80 finished with value: 0.955 and parameters: {'n_neighbors': 9, 'weights': 'distance', 'algorithm': 'kd_tree', 'metric': 'manhattan'}. Best is trial 2 with value: 0.96.\n"
     ]
    },
    {
     "name": "stdout",
     "output_type": "stream",
     "text": [
      "<f1_score: 0.955 >\n"
     ]
    },
    {
     "name": "stderr",
     "output_type": "stream",
     "text": [
      "[I 2023-11-08 15:34:16,121] Trial 81 finished with value: 0.96 and parameters: {'n_neighbors': 6, 'weights': 'distance', 'algorithm': 'brute', 'metric': 'manhattan'}. Best is trial 2 with value: 0.96.\n"
     ]
    },
    {
     "name": "stdout",
     "output_type": "stream",
     "text": [
      "<f1_score: 0.96 >\n"
     ]
    },
    {
     "name": "stderr",
     "output_type": "stream",
     "text": [
      "[I 2023-11-08 15:34:16,701] Trial 82 finished with value: 0.96 and parameters: {'n_neighbors': 6, 'weights': 'distance', 'algorithm': 'brute', 'metric': 'manhattan'}. Best is trial 2 with value: 0.96.\n"
     ]
    },
    {
     "name": "stdout",
     "output_type": "stream",
     "text": [
      "<f1_score: 0.96 >\n"
     ]
    },
    {
     "name": "stderr",
     "output_type": "stream",
     "text": [
      "[I 2023-11-08 15:34:17,187] Trial 83 finished with value: 0.959 and parameters: {'n_neighbors': 5, 'weights': 'distance', 'algorithm': 'brute', 'metric': 'manhattan'}. Best is trial 2 with value: 0.96.\n"
     ]
    },
    {
     "name": "stdout",
     "output_type": "stream",
     "text": [
      "<f1_score: 0.959 >\n"
     ]
    },
    {
     "name": "stderr",
     "output_type": "stream",
     "text": [
      "[I 2023-11-08 15:34:17,763] Trial 84 finished with value: 0.956 and parameters: {'n_neighbors': 7, 'weights': 'distance', 'algorithm': 'brute', 'metric': 'manhattan'}. Best is trial 2 with value: 0.96.\n"
     ]
    },
    {
     "name": "stdout",
     "output_type": "stream",
     "text": [
      "<f1_score: 0.956 >\n"
     ]
    },
    {
     "name": "stderr",
     "output_type": "stream",
     "text": [
      "[I 2023-11-08 15:34:18,418] Trial 85 finished with value: 0.96 and parameters: {'n_neighbors': 6, 'weights': 'distance', 'algorithm': 'brute', 'metric': 'manhattan'}. Best is trial 2 with value: 0.96.\n"
     ]
    },
    {
     "name": "stdout",
     "output_type": "stream",
     "text": [
      "<f1_score: 0.96 >\n"
     ]
    },
    {
     "name": "stderr",
     "output_type": "stream",
     "text": [
      "[I 2023-11-08 15:34:19,018] Trial 86 finished with value: 0.959 and parameters: {'n_neighbors': 5, 'weights': 'distance', 'algorithm': 'brute', 'metric': 'manhattan'}. Best is trial 2 with value: 0.96.\n"
     ]
    },
    {
     "name": "stdout",
     "output_type": "stream",
     "text": [
      "<f1_score: 0.959 >\n"
     ]
    },
    {
     "name": "stderr",
     "output_type": "stream",
     "text": [
      "[I 2023-11-08 15:34:19,600] Trial 87 finished with value: 0.96 and parameters: {'n_neighbors': 6, 'weights': 'distance', 'algorithm': 'brute', 'metric': 'manhattan'}. Best is trial 2 with value: 0.96.\n"
     ]
    },
    {
     "name": "stdout",
     "output_type": "stream",
     "text": [
      "<f1_score: 0.96 >\n"
     ]
    },
    {
     "name": "stderr",
     "output_type": "stream",
     "text": [
      "[I 2023-11-08 15:34:19,839] Trial 88 finished with value: 0.956 and parameters: {'n_neighbors': 8, 'weights': 'distance', 'algorithm': 'auto', 'metric': 'minkowski'}. Best is trial 2 with value: 0.96.\n"
     ]
    },
    {
     "name": "stdout",
     "output_type": "stream",
     "text": [
      "<f1_score: 0.956 >\n"
     ]
    },
    {
     "name": "stderr",
     "output_type": "stream",
     "text": [
      "[I 2023-11-08 15:34:20,776] Trial 89 finished with value: 0.952 and parameters: {'n_neighbors': 7, 'weights': 'uniform', 'algorithm': 'brute', 'metric': 'manhattan'}. Best is trial 2 with value: 0.96.\n"
     ]
    },
    {
     "name": "stdout",
     "output_type": "stream",
     "text": [
      "<f1_score: 0.952 >\n"
     ]
    },
    {
     "name": "stderr",
     "output_type": "stream",
     "text": [
      "[I 2023-11-08 15:34:21,365] Trial 90 finished with value: 0.951 and parameters: {'n_neighbors': 16, 'weights': 'distance', 'algorithm': 'ball_tree', 'metric': 'manhattan'}. Best is trial 2 with value: 0.96.\n"
     ]
    },
    {
     "name": "stdout",
     "output_type": "stream",
     "text": [
      "<f1_score: 0.951 >\n"
     ]
    },
    {
     "name": "stderr",
     "output_type": "stream",
     "text": [
      "[I 2023-11-08 15:34:21,931] Trial 91 finished with value: 0.96 and parameters: {'n_neighbors': 6, 'weights': 'distance', 'algorithm': 'brute', 'metric': 'manhattan'}. Best is trial 2 with value: 0.96.\n"
     ]
    },
    {
     "name": "stdout",
     "output_type": "stream",
     "text": [
      "<f1_score: 0.96 >\n"
     ]
    },
    {
     "name": "stderr",
     "output_type": "stream",
     "text": [
      "[I 2023-11-08 15:34:22,525] Trial 92 finished with value: 0.96 and parameters: {'n_neighbors': 6, 'weights': 'distance', 'algorithm': 'brute', 'metric': 'manhattan'}. Best is trial 2 with value: 0.96.\n"
     ]
    },
    {
     "name": "stdout",
     "output_type": "stream",
     "text": [
      "<f1_score: 0.96 >\n"
     ]
    },
    {
     "name": "stderr",
     "output_type": "stream",
     "text": [
      "[I 2023-11-08 15:34:23,140] Trial 93 finished with value: 0.956 and parameters: {'n_neighbors': 7, 'weights': 'distance', 'algorithm': 'brute', 'metric': 'manhattan'}. Best is trial 2 with value: 0.96.\n"
     ]
    },
    {
     "name": "stdout",
     "output_type": "stream",
     "text": [
      "<f1_score: 0.956 >\n"
     ]
    },
    {
     "name": "stderr",
     "output_type": "stream",
     "text": [
      "[I 2023-11-08 15:34:23,785] Trial 94 finished with value: 0.959 and parameters: {'n_neighbors': 5, 'weights': 'distance', 'algorithm': 'brute', 'metric': 'manhattan'}. Best is trial 2 with value: 0.96.\n"
     ]
    },
    {
     "name": "stdout",
     "output_type": "stream",
     "text": [
      "<f1_score: 0.959 >\n"
     ]
    },
    {
     "name": "stderr",
     "output_type": "stream",
     "text": [
      "[I 2023-11-08 15:34:24,270] Trial 95 finished with value: 0.96 and parameters: {'n_neighbors': 6, 'weights': 'distance', 'algorithm': 'kd_tree', 'metric': 'manhattan'}. Best is trial 2 with value: 0.96.\n"
     ]
    },
    {
     "name": "stdout",
     "output_type": "stream",
     "text": [
      "<f1_score: 0.96 >\n"
     ]
    },
    {
     "name": "stderr",
     "output_type": "stream",
     "text": [
      "[I 2023-11-08 15:34:24,493] Trial 96 finished with value: 0.955 and parameters: {'n_neighbors': 7, 'weights': 'distance', 'algorithm': 'brute', 'metric': 'euclidean'}. Best is trial 2 with value: 0.96.\n"
     ]
    },
    {
     "name": "stdout",
     "output_type": "stream",
     "text": [
      "<f1_score: 0.955 >\n"
     ]
    },
    {
     "name": "stderr",
     "output_type": "stream",
     "text": [
      "[I 2023-11-08 15:34:25,086] Trial 97 finished with value: 0.949 and parameters: {'n_neighbors': 20, 'weights': 'distance', 'algorithm': 'brute', 'metric': 'manhattan'}. Best is trial 2 with value: 0.96.\n"
     ]
    },
    {
     "name": "stdout",
     "output_type": "stream",
     "text": [
      "<f1_score: 0.949 >\n"
     ]
    },
    {
     "name": "stderr",
     "output_type": "stream",
     "text": [
      "[I 2023-11-08 15:34:25,646] Trial 98 finished with value: 0.959 and parameters: {'n_neighbors': 5, 'weights': 'distance', 'algorithm': 'brute', 'metric': 'manhattan'}. Best is trial 2 with value: 0.96.\n"
     ]
    },
    {
     "name": "stdout",
     "output_type": "stream",
     "text": [
      "<f1_score: 0.959 >\n"
     ]
    },
    {
     "name": "stderr",
     "output_type": "stream",
     "text": [
      "[I 2023-11-08 15:34:26,276] Trial 99 finished with value: 0.96 and parameters: {'n_neighbors': 6, 'weights': 'distance', 'algorithm': 'brute', 'metric': 'manhattan'}. Best is trial 2 with value: 0.96.\n"
     ]
    },
    {
     "name": "stdout",
     "output_type": "stream",
     "text": [
      "<f1_score: 0.96 >\n",
      "study.best_trial.value : 0.96\n",
      "study.best_params : {'n_neighbors': 6, 'weights': 'distance', 'algorithm': 'brute', 'metric': 'manhattan'}\n"
     ]
    }
   ],
   "source": [
    "import optuna\n",
    "from optuna import Trial, visualization\n",
    "from optuna.samplers import TPESampler\n",
    "\n",
    "def optuna_main(trial: optuna.Trial):\n",
    "    n_neighbors = trial.suggest_int('n_neighbors', 5, 20, step=1)\n",
    "    weights = trial.suggest_categorical('weights', ['uniform', 'distance'])\n",
    "    algorithm = trial.suggest_categorical('algorithm', ['auto', 'ball_tree', 'kd_tree', 'brute'])\n",
    "    metric = trial.suggest_categorical('metric', ['minkowski', 'euclidean', 'manhattan'])\n",
    "\n",
    "    f1_score = main_task(n_neighbors=n_neighbors, weights=weights, algorithm=algorithm, metric=metric)\n",
    "\n",
    "    print('<f1_score:', f1_score,'>')\n",
    "    return f1_score\n",
    "\n",
    "study = optuna.create_study(direction='maximize')\n",
    "study.optimize(optuna_main, n_trials=100)\n",
    "print(f'study.best_trial.value : {study.best_trial.value}')\n",
    "print(f'study.best_params : {study.best_trial.params}')"
   ]
  },
  {
   "cell_type": "code",
   "execution_count": 22,
   "metadata": {},
   "outputs": [
    {
     "name": "stdout",
     "output_type": "stream",
     "text": [
      "study.best_trial.value : 0.96\n",
      "study.best_paramse : {'n_neighbors': 6, 'weights': 'distance', 'algorithm': 'brute', 'metric': 'manhattan'}\n"
     ]
    }
   ],
   "source": [
    "#결과\n",
    "print(f'study.best_trial.value : {study.best_trial.value}')\n",
    "print(f'study.best_paramse : {study.best_params}')"
   ]
  },
  {
   "cell_type": "code",
   "execution_count": null,
   "metadata": {},
   "outputs": [],
   "source": []
  }
 ],
 "metadata": {
  "kernelspec": {
   "display_name": "Python 3",
   "language": "python",
   "name": "python3"
  },
  "language_info": {
   "codemirror_mode": {
    "name": "ipython",
    "version": 3
   },
   "file_extension": ".py",
   "mimetype": "text/x-python",
   "name": "python",
   "nbconvert_exporter": "python",
   "pygments_lexer": "ipython3",
   "version": "3.10.12"
  }
 },
 "nbformat": 4,
 "nbformat_minor": 2
}
