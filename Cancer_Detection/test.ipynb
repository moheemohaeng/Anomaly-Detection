{
 "cells": [
  {
   "cell_type": "code",
   "execution_count": 22,
   "metadata": {},
   "outputs": [
    {
     "ename": "TypeError",
     "evalue": "expected a sequence of integers or a single integer, got '130.0'",
     "output_type": "error",
     "traceback": [
      "\u001b[0;31m---------------------------------------------------------------------------\u001b[0m",
      "\u001b[0;31mTypeError\u001b[0m                                 Traceback (most recent call last)",
      "\u001b[1;32m/home/mohee/work/Anomaly-Detection/Cancer_Detection/test.ipynb Cell 1\u001b[0m line \u001b[0;36m7\n\u001b[1;32m     <a href='vscode-notebook-cell://wsl%2Bubuntu/home/mohee/work/Anomaly-Detection/Cancer_Detection/test.ipynb#X12sdnNjb2RlLXJlbW90ZQ%3D%3D?line=67'>68</a>\u001b[0m df_normal \u001b[39m=\u001b[39m df[df[answer_label] \u001b[39m==\u001b[39m \u001b[39m0\u001b[39m]\n\u001b[1;32m     <a href='vscode-notebook-cell://wsl%2Bubuntu/home/mohee/work/Anomaly-Detection/Cancer_Detection/test.ipynb#X12sdnNjb2RlLXJlbW90ZQ%3D%3D?line=68'>69</a>\u001b[0m df_abnormal \u001b[39m=\u001b[39m df[df[answer_label] \u001b[39m==\u001b[39m \u001b[39m1\u001b[39m]\n\u001b[0;32m---> <a href='vscode-notebook-cell://wsl%2Bubuntu/home/mohee/work/Anomaly-Detection/Cancer_Detection/test.ipynb#X12sdnNjb2RlLXJlbW90ZQ%3D%3D?line=69'>70</a>\u001b[0m test_normal_df \u001b[39m=\u001b[39m df_normal\u001b[39m.\u001b[39;49msample(n\u001b[39m=\u001b[39;49m\u001b[39mlen\u001b[39;49m(df_stroke_1)\u001b[39m/\u001b[39;49m\u001b[39m2\u001b[39;49m, random_state \u001b[39m=\u001b[39;49m \u001b[39m0\u001b[39;49m)\n\u001b[1;32m     <a href='vscode-notebook-cell://wsl%2Bubuntu/home/mohee/work/Anomaly-Detection/Cancer_Detection/test.ipynb#X12sdnNjb2RlLXJlbW90ZQ%3D%3D?line=70'>71</a>\u001b[0m test_df \u001b[39m=\u001b[39m pd\u001b[39m.\u001b[39mconcat([df_abnormal, test_normal_df])\n\u001b[1;32m     <a href='vscode-notebook-cell://wsl%2Bubuntu/home/mohee/work/Anomaly-Detection/Cancer_Detection/test.ipynb#X12sdnNjb2RlLXJlbW90ZQ%3D%3D?line=71'>72</a>\u001b[0m X_test \u001b[39m=\u001b[39m test_df[test_df\u001b[39m.\u001b[39mcolumns\u001b[39m.\u001b[39mdifference([answer_label])]\n",
      "File \u001b[0;32m~/.local/lib/python3.10/site-packages/pandas/core/generic.py:6029\u001b[0m, in \u001b[0;36mNDFrame.sample\u001b[0;34m(self, n, frac, replace, weights, random_state, axis, ignore_index)\u001b[0m\n\u001b[1;32m   6026\u001b[0m \u001b[39mif\u001b[39;00m weights \u001b[39mis\u001b[39;00m \u001b[39mnot\u001b[39;00m \u001b[39mNone\u001b[39;00m:\n\u001b[1;32m   6027\u001b[0m     weights \u001b[39m=\u001b[39m sample\u001b[39m.\u001b[39mpreprocess_weights(\u001b[39mself\u001b[39m, weights, axis)\n\u001b[0;32m-> 6029\u001b[0m sampled_indices \u001b[39m=\u001b[39m sample\u001b[39m.\u001b[39;49msample(obj_len, size, replace, weights, rs)\n\u001b[1;32m   6030\u001b[0m result \u001b[39m=\u001b[39m \u001b[39mself\u001b[39m\u001b[39m.\u001b[39mtake(sampled_indices, axis\u001b[39m=\u001b[39maxis)\n\u001b[1;32m   6032\u001b[0m \u001b[39mif\u001b[39;00m ignore_index:\n",
      "File \u001b[0;32m~/.local/lib/python3.10/site-packages/pandas/core/sample.py:152\u001b[0m, in \u001b[0;36msample\u001b[0;34m(obj_len, size, replace, weights, random_state)\u001b[0m\n\u001b[1;32m    149\u001b[0m     \u001b[39melse\u001b[39;00m:\n\u001b[1;32m    150\u001b[0m         \u001b[39mraise\u001b[39;00m \u001b[39mValueError\u001b[39;00m(\u001b[39m\"\u001b[39m\u001b[39mInvalid weights: weights sum to zero\u001b[39m\u001b[39m\"\u001b[39m)\n\u001b[0;32m--> 152\u001b[0m \u001b[39mreturn\u001b[39;00m random_state\u001b[39m.\u001b[39;49mchoice(obj_len, size\u001b[39m=\u001b[39;49msize, replace\u001b[39m=\u001b[39;49mreplace, p\u001b[39m=\u001b[39;49mweights)\u001b[39m.\u001b[39mastype(\n\u001b[1;32m    153\u001b[0m     np\u001b[39m.\u001b[39mintp, copy\u001b[39m=\u001b[39m\u001b[39mFalse\u001b[39;00m\n\u001b[1;32m    154\u001b[0m )\n",
      "File \u001b[0;32mnumpy/random/mtrand.pyx:1027\u001b[0m, in \u001b[0;36mnumpy.random.mtrand.RandomState.choice\u001b[0;34m()\u001b[0m\n",
      "\u001b[0;31mTypeError\u001b[0m: expected a sequence of integers or a single integer, got '130.0'"
     ]
    }
   ],
   "source": [
    "import numpy as np\n",
    "import pandas as pd\n",
    "from sklearn.impute import KNNImputer\n",
    "from sklearn.preprocessing import MinMaxScaler\n",
    "from sklearn.model_selection import train_test_split\n",
    "from sklearn.neighbors import KNeighborsClassifier\n",
    "from sklearn.svm import SVC\n",
    "from sklearn.naive_bayes import GaussianNB\n",
    "from sklearn.tree import DecisionTreeClassifier\n",
    "from sklearn.ensemble import RandomForestClassifier, AdaBoostClassifier\n",
    "from sklearn.metrics import classification_report\n",
    "from pyod.models.iforest import IForest\n",
    "from sklearn.metrics import accuracy_score, f1_score, confusion_matrix, classification_report, precision_score, recall_score\n",
    "from imblearn.over_sampling import SMOTE\n",
    "from imblearn.under_sampling import OneSidedSelection\n",
    "import os\n",
    "from sklearn.neighbors import LocalOutlierFactor\n",
    "import matplotlib.pyplot as plt\n",
    "from sklearn.decomposition import PCA\n",
    "from pyod.models.pca import PCA\n",
    "from sklearn.mixture import GaussianMixture\n",
    "from sklearn.covariance import EllipticEnvelope\n",
    "from sklearn.model_selection import GridSearchCV\n",
    "\n",
    "import os, sys, pickle\n",
    "import argparse, sys\n",
    "\n",
    "import seaborn as sns\n",
    "sns.set_style('white')\n",
    "\n",
    "import warnings\n",
    "warnings.filterwarnings('ignore')\n",
    "\n",
    "\n",
    "\n",
    "df = pd.read_csv('data/modified_dataset.csv')\n",
    "\n",
    "\n",
    "# def remove_outliers(df, column_name, factor=1.5):\n",
    "#     Q1 = df[column_name].quantile(0.25)\n",
    "#     Q3 = df[column_name].quantile(0.75)\n",
    "#     IQR = Q3 - Q1\n",
    "#     lower_bound = Q1 - factor * IQR\n",
    "#     upper_bound = Q3 + factor * IQR\n",
    "#     df_filtered = df[(df[column_name] >= lower_bound) & (df[column_name] <= upper_bound)]\n",
    "#     return df_filtered\n",
    "\n",
    "# # 모든 칼럼에 대해 이상치 제거 실행\n",
    "# for column_name in df.columns:\n",
    "#     df = remove_outliers(df, column_name)\n",
    "\n",
    "\n",
    "\n",
    "\n",
    "\n",
    "\n",
    "\n",
    "df_stroke_0 = df[df['Cancer'] == 0]\n",
    "df_stroke_1 = df[df['Cancer'] == 1]\n",
    "\n",
    "\n",
    "\n",
    "#train, test data processing 1,2,3,4중 선택\n",
    "\n",
    "#1.정상으로만 학습, 테스트는 정상과 이상 반반\n",
    "answer_label = 'Cancer'\n",
    "X = df[df.columns.difference([answer_label])]\n",
    "df_normal = df[df[answer_label] == 0]\n",
    "df_abnormal = df[df[answer_label] == 1]\n",
    "test_normal_df = df_normal.sample(n=int(len(df_stroke_1)/2), random_state = 0)\n",
    "test_df = pd.concat([df_abnormal, test_normal_df])\n",
    "X_test = test_df[test_df.columns.difference([answer_label])]\n",
    "y_test = test_df[answer_label]\n",
    "train_df = df_normal.drop(test_normal_df.index)\n",
    "X_train = train_df[train_df.columns.difference([answer_label])]\n",
    "y_train = train_df[answer_label]\n"
   ]
  },
  {
   "cell_type": "code",
   "execution_count": 19,
   "metadata": {},
   "outputs": [
    {
     "data": {
      "text/plain": [
       "(10663, 5)"
      ]
     },
     "execution_count": 19,
     "metadata": {},
     "output_type": "execute_result"
    }
   ],
   "source": [
    "X_train.shape"
   ]
  },
  {
   "cell_type": "code",
   "execution_count": 20,
   "metadata": {},
   "outputs": [
    {
     "data": {
      "text/plain": [
       "(10663,)"
      ]
     },
     "execution_count": 20,
     "metadata": {},
     "output_type": "execute_result"
    }
   ],
   "source": [
    "y_train.shape"
   ]
  },
  {
   "cell_type": "code",
   "execution_count": 14,
   "metadata": {},
   "outputs": [
    {
     "data": {
      "text/plain": [
       "(6927, 5)"
      ]
     },
     "execution_count": 14,
     "metadata": {},
     "output_type": "execute_result"
    }
   ],
   "source": [
    "X_train.shape"
   ]
  },
  {
   "cell_type": "code",
   "execution_count": 15,
   "metadata": {},
   "outputs": [
    {
     "data": {
      "text/plain": [
       "(6927,)"
      ]
     },
     "execution_count": 15,
     "metadata": {},
     "output_type": "execute_result"
    }
   ],
   "source": [
    "y_train.shape"
   ]
  },
  {
   "cell_type": "code",
   "execution_count": 21,
   "metadata": {},
   "outputs": [
    {
     "data": {
      "text/plain": [
       "(520, 5)"
      ]
     },
     "execution_count": 21,
     "metadata": {},
     "output_type": "execute_result"
    }
   ],
   "source": [
    "X_test.shape"
   ]
  },
  {
   "cell_type": "code",
   "execution_count": 17,
   "metadata": {},
   "outputs": [
    {
     "data": {
      "text/plain": [
       "(0,)"
      ]
     },
     "execution_count": 17,
     "metadata": {},
     "output_type": "execute_result"
    }
   ],
   "source": [
    "y_test.shape"
   ]
  },
  {
   "cell_type": "code",
   "execution_count": null,
   "metadata": {},
   "outputs": [],
   "source": []
  }
 ],
 "metadata": {
  "kernelspec": {
   "display_name": "Python 3",
   "language": "python",
   "name": "python3"
  },
  "language_info": {
   "codemirror_mode": {
    "name": "ipython",
    "version": 3
   },
   "file_extension": ".py",
   "mimetype": "text/x-python",
   "name": "python",
   "nbconvert_exporter": "python",
   "pygments_lexer": "ipython3",
   "version": "3.10.12"
  }
 },
 "nbformat": 4,
 "nbformat_minor": 2
}
