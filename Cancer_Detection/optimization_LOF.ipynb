{
 "cells": [
  {
   "cell_type": "code",
   "execution_count": 1,
   "metadata": {},
   "outputs": [],
   "source": [
    "import numpy as np\n",
    "import pandas as pd\n",
    "from sklearn.impute import KNNImputer\n",
    "from sklearn.preprocessing import MinMaxScaler\n",
    "from sklearn.model_selection import train_test_split\n",
    "from sklearn.neighbors import KNeighborsClassifier\n",
    "from sklearn.svm import SVC\n",
    "from sklearn.naive_bayes import GaussianNB\n",
    "from sklearn.tree import DecisionTreeClassifier\n",
    "from sklearn.ensemble import RandomForestClassifier, AdaBoostClassifier\n",
    "from sklearn.metrics import classification_report\n",
    "from pyod.models.iforest import IForest\n",
    "from sklearn.metrics import accuracy_score, f1_score, confusion_matrix, classification_report, precision_score, recall_score\n",
    "from imblearn.over_sampling import SMOTE\n",
    "from imblearn.under_sampling import OneSidedSelection\n",
    "import os\n",
    "from sklearn.neighbors import LocalOutlierFactor\n",
    "import matplotlib.pyplot as plt\n",
    "from sklearn.decomposition import PCA\n",
    "from pyod.models.pca import PCA\n",
    "from sklearn.mixture import GaussianMixture\n",
    "from sklearn.covariance import EllipticEnvelope\n",
    "from sklearn.model_selection import GridSearchCV\n",
    "\n",
    "import os, sys, pickle\n",
    "import argparse, sys\n",
    "\n",
    "import seaborn as sns\n",
    "sns.set_style('white')\n",
    "\n",
    "import warnings\n",
    "warnings.filterwarnings('ignore')\n",
    "\n",
    "\n",
    "\n",
    "# parser = argparse.ArgumentParser()\n",
    "# parser.add_argument('-label', help=' : Please set the label') \n",
    "# args = parser.parse_args()\n",
    "\n",
    "\n",
    "df = pd.read_csv('data/modified_dataset.csv')\n",
    "\n",
    "\n",
    "# def remove_outliers(df, column_name, factor=1.5):\n",
    "#     Q1 = df[column_name].quantile(0.25)\n",
    "#     Q3 = df[column_name].quantile(0.75)\n",
    "#     IQR = Q3 - Q1\n",
    "#     lower_bound = Q1 - factor * IQR\n",
    "#     upper_bound = Q3 + factor * IQR\n",
    "#     df_filtered = df[(df[column_name] >= lower_bound) & (df[column_name] <= upper_bound)]\n",
    "#     return df_filtered\n",
    "\n",
    "# # 모든 칼럼에 대해 이상치 제거 실행\n",
    "# for column_name in df.columns:\n",
    "#     df = remove_outliers(df, column_name)\n",
    "\n",
    "\n",
    "\n",
    "\n",
    "\n",
    "\n",
    "\n",
    "df_stroke_0 = df[df['Cancer'] == 0]\n",
    "df_stroke_1 = df[df['Cancer'] == 1]\n",
    "\n",
    "\n",
    "\n",
    "#train, test data processing 1,2,3,4중 선택\n",
    "\n",
    "#1.정상으로만 학습, 테스트는 정상과 이상 반반\n",
    "answer_label = 'Cancer'\n",
    "X = df[df.columns.difference([answer_label])]\n",
    "df_normal = df[df[answer_label] == 0]\n",
    "df_abnormal = df[df[answer_label] == 1]\n",
    "test_normal_df = df_normal.sample(n=len(df_stroke_1), random_state = 0)\n",
    "test_df = pd.concat([df_abnormal, test_normal_df])\n",
    "X_test = test_df[test_df.columns.difference([answer_label])]\n",
    "y_test = test_df[answer_label]\n",
    "train_df = df_normal.drop(test_normal_df.index)\n",
    "X_train = train_df[train_df.columns.difference([answer_label])]\n",
    "y_train = train_df[answer_label]\n",
    "\n"
   ]
  },
  {
   "cell_type": "code",
   "execution_count": 8,
   "metadata": {},
   "outputs": [],
   "source": [
    "# Local Outlier Factor\n",
    "\n",
    "def main_task(contamination, n_neighbors, leaf_size):\n",
    "    LOF = LocalOutlierFactor(novelty=True, contamination=contamination, n_neighbors=n_neighbors, leaf_size=leaf_size)\n",
    "    LOF.fit(X_train)\n",
    "    LOF_test_pred = LOF.predict(X_test) \n",
    "    LOF_test_pred = pd.DataFrame(LOF_test_pred)\n",
    "    LOF_test_pred = LOF_test_pred.replace({-1: 1, 1: 0})\n",
    "    return round(f1_score(y_test, LOF_test_pred),3)"
   ]
  },
  {
   "cell_type": "code",
   "execution_count": 9,
   "metadata": {},
   "outputs": [],
   "source": [
    "import optuna\n",
    "from optuna import Trial, visualization\n",
    "from optuna.samplers import TPESampler\n",
    "\n",
    "def optuna_main(trial: optuna.Trial):\n",
    "    contamination = trial.suggest_float('contamination', 0.01, 0.5, step = 0.02)\n",
    "    n_neighbors = trial.suggest_int('n_neighbors', 10, 40, step = 1)\n",
    "    leaf_size = trial.suggest_int('leaf_size', 30, 60, step = 1)\n",
    "    print('contamination : ', contamination)\n",
    "    f1_score = main_task(contamination=contamination, n_neighbors=n_neighbors, leaf_size=leaf_size)\n",
    "\n",
    "    print('<f1_score:', f1_score,'>')\n",
    "    return f1_score"
   ]
  },
  {
   "cell_type": "code",
   "execution_count": 10,
   "metadata": {},
   "outputs": [
    {
     "name": "stderr",
     "output_type": "stream",
     "text": [
      "[I 2023-11-08 15:11:38,737] A new study created in memory with name: no-name-b4a8a35c-1586-49f7-a00c-5c8a3e0c28f1\n"
     ]
    },
    {
     "name": "stdout",
     "output_type": "stream",
     "text": [
      "contamination :  0.17\n"
     ]
    },
    {
     "name": "stderr",
     "output_type": "stream",
     "text": [
      "[I 2023-11-08 15:11:38,978] Trial 0 finished with value: 0.753 and parameters: {'contamination': 0.17, 'n_neighbors': 10, 'leaf_size': 57}. Best is trial 0 with value: 0.753.\n"
     ]
    },
    {
     "name": "stdout",
     "output_type": "stream",
     "text": [
      "<f1_score: 0.753 >\n",
      "contamination :  0.37\n"
     ]
    },
    {
     "name": "stderr",
     "output_type": "stream",
     "text": [
      "[I 2023-11-08 15:11:39,276] Trial 1 finished with value: 0.757 and parameters: {'contamination': 0.37, 'n_neighbors': 24, 'leaf_size': 49}. Best is trial 1 with value: 0.757.\n"
     ]
    },
    {
     "name": "stdout",
     "output_type": "stream",
     "text": [
      "<f1_score: 0.757 >\n",
      "contamination :  0.27\n"
     ]
    },
    {
     "name": "stderr",
     "output_type": "stream",
     "text": [
      "[I 2023-11-08 15:11:39,586] Trial 2 finished with value: 0.756 and parameters: {'contamination': 0.27, 'n_neighbors': 27, 'leaf_size': 58}. Best is trial 1 with value: 0.757.\n"
     ]
    },
    {
     "name": "stdout",
     "output_type": "stream",
     "text": [
      "<f1_score: 0.756 >\n",
      "contamination :  0.31\n"
     ]
    },
    {
     "name": "stderr",
     "output_type": "stream",
     "text": [
      "[I 2023-11-08 15:11:39,942] Trial 3 finished with value: 0.764 and parameters: {'contamination': 0.31, 'n_neighbors': 39, 'leaf_size': 35}. Best is trial 3 with value: 0.764.\n"
     ]
    },
    {
     "name": "stdout",
     "output_type": "stream",
     "text": [
      "<f1_score: 0.764 >\n",
      "contamination :  0.25\n"
     ]
    },
    {
     "name": "stderr",
     "output_type": "stream",
     "text": [
      "[I 2023-11-08 15:11:40,328] Trial 4 finished with value: 0.76 and parameters: {'contamination': 0.25, 'n_neighbors': 40, 'leaf_size': 32}. Best is trial 3 with value: 0.764.\n"
     ]
    },
    {
     "name": "stdout",
     "output_type": "stream",
     "text": [
      "<f1_score: 0.76 >\n",
      "contamination :  0.45\n"
     ]
    },
    {
     "name": "stderr",
     "output_type": "stream",
     "text": [
      "[I 2023-11-08 15:11:40,668] Trial 5 finished with value: 0.746 and parameters: {'contamination': 0.45, 'n_neighbors': 14, 'leaf_size': 42}. Best is trial 3 with value: 0.764.\n"
     ]
    },
    {
     "name": "stdout",
     "output_type": "stream",
     "text": [
      "<f1_score: 0.746 >\n",
      "contamination :  0.45\n"
     ]
    },
    {
     "name": "stderr",
     "output_type": "stream",
     "text": [
      "[I 2023-11-08 15:11:40,972] Trial 6 finished with value: 0.744 and parameters: {'contamination': 0.45, 'n_neighbors': 18, 'leaf_size': 31}. Best is trial 3 with value: 0.764.\n"
     ]
    },
    {
     "name": "stdout",
     "output_type": "stream",
     "text": [
      "<f1_score: 0.744 >\n",
      "contamination :  0.45\n"
     ]
    },
    {
     "name": "stderr",
     "output_type": "stream",
     "text": [
      "[I 2023-11-08 15:11:41,314] Trial 7 finished with value: 0.748 and parameters: {'contamination': 0.45, 'n_neighbors': 37, 'leaf_size': 46}. Best is trial 3 with value: 0.764.\n"
     ]
    },
    {
     "name": "stdout",
     "output_type": "stream",
     "text": [
      "<f1_score: 0.748 >\n",
      "contamination :  0.35000000000000003\n"
     ]
    },
    {
     "name": "stderr",
     "output_type": "stream",
     "text": [
      "[I 2023-11-08 15:11:41,636] Trial 8 finished with value: 0.768 and parameters: {'contamination': 0.35000000000000003, 'n_neighbors': 36, 'leaf_size': 32}. Best is trial 8 with value: 0.768.\n"
     ]
    },
    {
     "name": "stdout",
     "output_type": "stream",
     "text": [
      "<f1_score: 0.768 >\n",
      "contamination :  0.45\n"
     ]
    },
    {
     "name": "stderr",
     "output_type": "stream",
     "text": [
      "[I 2023-11-08 15:11:41,883] Trial 9 finished with value: 0.737 and parameters: {'contamination': 0.45, 'n_neighbors': 13, 'leaf_size': 33}. Best is trial 8 with value: 0.768.\n"
     ]
    },
    {
     "name": "stdout",
     "output_type": "stream",
     "text": [
      "<f1_score: 0.737 >\n",
      "contamination :  0.01\n"
     ]
    },
    {
     "name": "stderr",
     "output_type": "stream",
     "text": [
      "[I 2023-11-08 15:11:42,206] Trial 10 finished with value: 0.452 and parameters: {'contamination': 0.01, 'n_neighbors': 32, 'leaf_size': 39}. Best is trial 8 with value: 0.768.\n"
     ]
    },
    {
     "name": "stdout",
     "output_type": "stream",
     "text": [
      "<f1_score: 0.452 >\n",
      "contamination :  0.33\n"
     ]
    },
    {
     "name": "stderr",
     "output_type": "stream",
     "text": [
      "[I 2023-11-08 15:11:42,520] Trial 11 finished with value: 0.766 and parameters: {'contamination': 0.33, 'n_neighbors': 34, 'leaf_size': 37}. Best is trial 8 with value: 0.768.\n"
     ]
    },
    {
     "name": "stdout",
     "output_type": "stream",
     "text": [
      "<f1_score: 0.766 >\n",
      "contamination :  0.15000000000000002\n"
     ]
    },
    {
     "name": "stderr",
     "output_type": "stream",
     "text": [
      "[I 2023-11-08 15:11:42,832] Trial 12 finished with value: 0.728 and parameters: {'contamination': 0.15000000000000002, 'n_neighbors': 33, 'leaf_size': 37}. Best is trial 8 with value: 0.768.\n"
     ]
    },
    {
     "name": "stdout",
     "output_type": "stream",
     "text": [
      "<f1_score: 0.728 >\n",
      "contamination :  0.35000000000000003\n"
     ]
    },
    {
     "name": "stderr",
     "output_type": "stream",
     "text": [
      "[I 2023-11-08 15:11:43,131] Trial 13 finished with value: 0.768 and parameters: {'contamination': 0.35000000000000003, 'n_neighbors': 32, 'leaf_size': 40}. Best is trial 8 with value: 0.768.\n"
     ]
    },
    {
     "name": "stdout",
     "output_type": "stream",
     "text": [
      "<f1_score: 0.768 >\n",
      "contamination :  0.37\n"
     ]
    },
    {
     "name": "stderr",
     "output_type": "stream",
     "text": [
      "[I 2023-11-08 15:11:43,413] Trial 14 finished with value: 0.761 and parameters: {'contamination': 0.37, 'n_neighbors': 28, 'leaf_size': 51}. Best is trial 8 with value: 0.768.\n"
     ]
    },
    {
     "name": "stdout",
     "output_type": "stream",
     "text": [
      "<f1_score: 0.761 >\n",
      "contamination :  0.19\n"
     ]
    },
    {
     "name": "stderr",
     "output_type": "stream",
     "text": [
      "[I 2023-11-08 15:11:43,680] Trial 15 finished with value: 0.746 and parameters: {'contamination': 0.19, 'n_neighbors': 22, 'leaf_size': 42}. Best is trial 8 with value: 0.768.\n"
     ]
    },
    {
     "name": "stdout",
     "output_type": "stream",
     "text": [
      "<f1_score: 0.746 >\n",
      "contamination :  0.39\n"
     ]
    },
    {
     "name": "stderr",
     "output_type": "stream",
     "text": [
      "[I 2023-11-08 15:11:43,975] Trial 16 finished with value: 0.757 and parameters: {'contamination': 0.39, 'n_neighbors': 29, 'leaf_size': 30}. Best is trial 8 with value: 0.768.\n"
     ]
    },
    {
     "name": "stdout",
     "output_type": "stream",
     "text": [
      "<f1_score: 0.757 >\n",
      "contamination :  0.11\n"
     ]
    },
    {
     "name": "stderr",
     "output_type": "stream",
     "text": [
      "[I 2023-11-08 15:11:44,302] Trial 17 finished with value: 0.708 and parameters: {'contamination': 0.11, 'n_neighbors': 36, 'leaf_size': 42}. Best is trial 8 with value: 0.768.\n"
     ]
    },
    {
     "name": "stdout",
     "output_type": "stream",
     "text": [
      "<f1_score: 0.708 >\n",
      "contamination :  0.25\n"
     ]
    },
    {
     "name": "stderr",
     "output_type": "stream",
     "text": [
      "[I 2023-11-08 15:11:44,664] Trial 18 finished with value: 0.747 and parameters: {'contamination': 0.25, 'n_neighbors': 30, 'leaf_size': 39}. Best is trial 8 with value: 0.768.\n"
     ]
    },
    {
     "name": "stdout",
     "output_type": "stream",
     "text": [
      "<f1_score: 0.747 >\n",
      "contamination :  0.49\n"
     ]
    },
    {
     "name": "stderr",
     "output_type": "stream",
     "text": [
      "[I 2023-11-08 15:11:44,975] Trial 19 finished with value: 0.743 and parameters: {'contamination': 0.49, 'n_neighbors': 36, 'leaf_size': 47}. Best is trial 8 with value: 0.768.\n"
     ]
    },
    {
     "name": "stdout",
     "output_type": "stream",
     "text": [
      "<f1_score: 0.743 >\n",
      "contamination :  0.33\n"
     ]
    },
    {
     "name": "stderr",
     "output_type": "stream",
     "text": [
      "[I 2023-11-08 15:11:45,233] Trial 20 finished with value: 0.761 and parameters: {'contamination': 0.33, 'n_neighbors': 21, 'leaf_size': 53}. Best is trial 8 with value: 0.768.\n"
     ]
    },
    {
     "name": "stdout",
     "output_type": "stream",
     "text": [
      "<f1_score: 0.761 >\n",
      "contamination :  0.31\n"
     ]
    },
    {
     "name": "stderr",
     "output_type": "stream",
     "text": [
      "[I 2023-11-08 15:11:45,545] Trial 21 finished with value: 0.767 and parameters: {'contamination': 0.31, 'n_neighbors': 33, 'leaf_size': 37}. Best is trial 8 with value: 0.768.\n"
     ]
    },
    {
     "name": "stdout",
     "output_type": "stream",
     "text": [
      "<f1_score: 0.767 >\n",
      "contamination :  0.29000000000000004\n"
     ]
    },
    {
     "name": "stderr",
     "output_type": "stream",
     "text": [
      "[I 2023-11-08 15:11:45,846] Trial 22 finished with value: 0.752 and parameters: {'contamination': 0.29000000000000004, 'n_neighbors': 31, 'leaf_size': 37}. Best is trial 8 with value: 0.768.\n"
     ]
    },
    {
     "name": "stdout",
     "output_type": "stream",
     "text": [
      "<f1_score: 0.752 >\n",
      "contamination :  0.39\n"
     ]
    },
    {
     "name": "stderr",
     "output_type": "stream",
     "text": [
      "[I 2023-11-08 15:11:46,161] Trial 23 finished with value: 0.763 and parameters: {'contamination': 0.39, 'n_neighbors': 34, 'leaf_size': 34}. Best is trial 8 with value: 0.768.\n"
     ]
    },
    {
     "name": "stdout",
     "output_type": "stream",
     "text": [
      "<f1_score: 0.763 >\n",
      "contamination :  0.21000000000000002\n"
     ]
    },
    {
     "name": "stderr",
     "output_type": "stream",
     "text": [
      "[I 2023-11-08 15:11:46,458] Trial 24 finished with value: 0.736 and parameters: {'contamination': 0.21000000000000002, 'n_neighbors': 26, 'leaf_size': 40}. Best is trial 8 with value: 0.768.\n"
     ]
    },
    {
     "name": "stdout",
     "output_type": "stream",
     "text": [
      "<f1_score: 0.736 >\n",
      "contamination :  0.33\n"
     ]
    },
    {
     "name": "stderr",
     "output_type": "stream",
     "text": [
      "[I 2023-11-08 15:11:46,783] Trial 25 finished with value: 0.764 and parameters: {'contamination': 0.33, 'n_neighbors': 38, 'leaf_size': 35}. Best is trial 8 with value: 0.768.\n"
     ]
    },
    {
     "name": "stdout",
     "output_type": "stream",
     "text": [
      "<f1_score: 0.764 >\n",
      "contamination :  0.39\n"
     ]
    },
    {
     "name": "stderr",
     "output_type": "stream",
     "text": [
      "[I 2023-11-08 15:11:47,098] Trial 26 finished with value: 0.765 and parameters: {'contamination': 0.39, 'n_neighbors': 35, 'leaf_size': 44}. Best is trial 8 with value: 0.768.\n"
     ]
    },
    {
     "name": "stdout",
     "output_type": "stream",
     "text": [
      "<f1_score: 0.765 >\n",
      "contamination :  0.35000000000000003\n"
     ]
    },
    {
     "name": "stderr",
     "output_type": "stream",
     "text": [
      "[I 2023-11-08 15:11:47,404] Trial 27 finished with value: 0.763 and parameters: {'contamination': 0.35000000000000003, 'n_neighbors': 31, 'leaf_size': 30}. Best is trial 8 with value: 0.768.\n"
     ]
    },
    {
     "name": "stdout",
     "output_type": "stream",
     "text": [
      "<f1_score: 0.763 >\n",
      "contamination :  0.23\n"
     ]
    },
    {
     "name": "stderr",
     "output_type": "stream",
     "text": [
      "[I 2023-11-08 15:11:47,688] Trial 28 finished with value: 0.741 and parameters: {'contamination': 0.23, 'n_neighbors': 24, 'leaf_size': 36}. Best is trial 8 with value: 0.768.\n"
     ]
    },
    {
     "name": "stdout",
     "output_type": "stream",
     "text": [
      "<f1_score: 0.741 >\n",
      "contamination :  0.29000000000000004\n"
     ]
    },
    {
     "name": "stderr",
     "output_type": "stream",
     "text": [
      "[I 2023-11-08 15:11:48,012] Trial 29 finished with value: 0.769 and parameters: {'contamination': 0.29000000000000004, 'n_neighbors': 40, 'leaf_size': 40}. Best is trial 29 with value: 0.769.\n"
     ]
    },
    {
     "name": "stdout",
     "output_type": "stream",
     "text": [
      "<f1_score: 0.769 >\n",
      "contamination :  0.15000000000000002\n"
     ]
    },
    {
     "name": "stderr",
     "output_type": "stream",
     "text": [
      "[I 2023-11-08 15:11:48,356] Trial 30 finished with value: 0.72 and parameters: {'contamination': 0.15000000000000002, 'n_neighbors': 40, 'leaf_size': 44}. Best is trial 29 with value: 0.769.\n"
     ]
    },
    {
     "name": "stdout",
     "output_type": "stream",
     "text": [
      "<f1_score: 0.72 >\n",
      "contamination :  0.29000000000000004\n"
     ]
    },
    {
     "name": "stderr",
     "output_type": "stream",
     "text": [
      "[I 2023-11-08 15:11:48,748] Trial 31 finished with value: 0.759 and parameters: {'contamination': 0.29000000000000004, 'n_neighbors': 38, 'leaf_size': 40}. Best is trial 29 with value: 0.769.\n"
     ]
    },
    {
     "name": "stdout",
     "output_type": "stream",
     "text": [
      "<f1_score: 0.759 >\n",
      "contamination :  0.41000000000000003\n"
     ]
    },
    {
     "name": "stderr",
     "output_type": "stream",
     "text": [
      "[I 2023-11-08 15:11:49,130] Trial 32 finished with value: 0.76 and parameters: {'contamination': 0.41000000000000003, 'n_neighbors': 33, 'leaf_size': 33}. Best is trial 29 with value: 0.769.\n"
     ]
    },
    {
     "name": "stdout",
     "output_type": "stream",
     "text": [
      "<f1_score: 0.76 >\n",
      "contamination :  0.29000000000000004\n"
     ]
    },
    {
     "name": "stderr",
     "output_type": "stream",
     "text": [
      "[I 2023-11-08 15:11:49,479] Trial 33 finished with value: 0.755 and parameters: {'contamination': 0.29000000000000004, 'n_neighbors': 37, 'leaf_size': 38}. Best is trial 29 with value: 0.769.\n"
     ]
    },
    {
     "name": "stdout",
     "output_type": "stream",
     "text": [
      "<f1_score: 0.755 >\n",
      "contamination :  0.35000000000000003\n"
     ]
    },
    {
     "name": "stderr",
     "output_type": "stream",
     "text": [
      "[I 2023-11-08 15:11:49,831] Trial 34 finished with value: 0.768 and parameters: {'contamination': 0.35000000000000003, 'n_neighbors': 35, 'leaf_size': 60}. Best is trial 29 with value: 0.769.\n"
     ]
    },
    {
     "name": "stdout",
     "output_type": "stream",
     "text": [
      "<f1_score: 0.768 >\n",
      "contamination :  0.35000000000000003\n"
     ]
    },
    {
     "name": "stderr",
     "output_type": "stream",
     "text": [
      "[I 2023-11-08 15:11:50,163] Trial 35 finished with value: 0.771 and parameters: {'contamination': 0.35000000000000003, 'n_neighbors': 39, 'leaf_size': 55}. Best is trial 35 with value: 0.771.\n"
     ]
    },
    {
     "name": "stdout",
     "output_type": "stream",
     "text": [
      "<f1_score: 0.771 >\n",
      "contamination :  0.41000000000000003\n"
     ]
    },
    {
     "name": "stderr",
     "output_type": "stream",
     "text": [
      "[I 2023-11-08 15:11:50,533] Trial 36 finished with value: 0.759 and parameters: {'contamination': 0.41000000000000003, 'n_neighbors': 40, 'leaf_size': 55}. Best is trial 35 with value: 0.771.\n"
     ]
    },
    {
     "name": "stdout",
     "output_type": "stream",
     "text": [
      "<f1_score: 0.759 >\n",
      "contamination :  0.25\n"
     ]
    },
    {
     "name": "stderr",
     "output_type": "stream",
     "text": [
      "[I 2023-11-08 15:11:50,879] Trial 37 finished with value: 0.764 and parameters: {'contamination': 0.25, 'n_neighbors': 39, 'leaf_size': 49}. Best is trial 35 with value: 0.771.\n"
     ]
    },
    {
     "name": "stdout",
     "output_type": "stream",
     "text": [
      "<f1_score: 0.764 >\n",
      "contamination :  0.27\n"
     ]
    },
    {
     "name": "stderr",
     "output_type": "stream",
     "text": [
      "[I 2023-11-08 15:11:51,245] Trial 38 finished with value: 0.758 and parameters: {'contamination': 0.27, 'n_neighbors': 38, 'leaf_size': 48}. Best is trial 35 with value: 0.771.\n"
     ]
    },
    {
     "name": "stdout",
     "output_type": "stream",
     "text": [
      "<f1_score: 0.758 >\n",
      "contamination :  0.35000000000000003\n"
     ]
    },
    {
     "name": "stderr",
     "output_type": "stream",
     "text": [
      "[I 2023-11-08 15:11:51,624] Trial 39 finished with value: 0.768 and parameters: {'contamination': 0.35000000000000003, 'n_neighbors': 40, 'leaf_size': 56}. Best is trial 35 with value: 0.771.\n"
     ]
    },
    {
     "name": "stdout",
     "output_type": "stream",
     "text": [
      "<f1_score: 0.768 >\n",
      "contamination :  0.49\n"
     ]
    },
    {
     "name": "stderr",
     "output_type": "stream",
     "text": [
      "[I 2023-11-08 15:11:51,977] Trial 40 finished with value: 0.743 and parameters: {'contamination': 0.49, 'n_neighbors': 36, 'leaf_size': 51}. Best is trial 35 with value: 0.771.\n"
     ]
    },
    {
     "name": "stdout",
     "output_type": "stream",
     "text": [
      "<f1_score: 0.743 >\n",
      "contamination :  0.35000000000000003\n"
     ]
    },
    {
     "name": "stderr",
     "output_type": "stream",
     "text": [
      "[I 2023-11-08 15:11:52,334] Trial 41 finished with value: 0.768 and parameters: {'contamination': 0.35000000000000003, 'n_neighbors': 35, 'leaf_size': 60}. Best is trial 35 with value: 0.771.\n"
     ]
    },
    {
     "name": "stdout",
     "output_type": "stream",
     "text": [
      "<f1_score: 0.768 >\n",
      "contamination :  0.31\n"
     ]
    },
    {
     "name": "stderr",
     "output_type": "stream",
     "text": [
      "[I 2023-11-08 15:11:52,705] Trial 42 finished with value: 0.766 and parameters: {'contamination': 0.31, 'n_neighbors': 38, 'leaf_size': 59}. Best is trial 35 with value: 0.771.\n"
     ]
    },
    {
     "name": "stdout",
     "output_type": "stream",
     "text": [
      "<f1_score: 0.766 >\n",
      "contamination :  0.43\n"
     ]
    },
    {
     "name": "stderr",
     "output_type": "stream",
     "text": [
      "[I 2023-11-08 15:11:53,063] Trial 43 finished with value: 0.755 and parameters: {'contamination': 0.43, 'n_neighbors': 35, 'leaf_size': 57}. Best is trial 35 with value: 0.771.\n"
     ]
    },
    {
     "name": "stdout",
     "output_type": "stream",
     "text": [
      "<f1_score: 0.755 >\n",
      "contamination :  0.37\n"
     ]
    },
    {
     "name": "stderr",
     "output_type": "stream",
     "text": [
      "[I 2023-11-08 15:11:53,412] Trial 44 finished with value: 0.771 and parameters: {'contamination': 0.37, 'n_neighbors': 37, 'leaf_size': 54}. Best is trial 35 with value: 0.771.\n"
     ]
    },
    {
     "name": "stdout",
     "output_type": "stream",
     "text": [
      "<f1_score: 0.771 >\n",
      "contamination :  0.37\n"
     ]
    },
    {
     "name": "stderr",
     "output_type": "stream",
     "text": [
      "[I 2023-11-08 15:11:53,846] Trial 45 finished with value: 0.771 and parameters: {'contamination': 0.37, 'n_neighbors': 37, 'leaf_size': 54}. Best is trial 35 with value: 0.771.\n"
     ]
    },
    {
     "name": "stdout",
     "output_type": "stream",
     "text": [
      "<f1_score: 0.771 >\n",
      "contamination :  0.43\n"
     ]
    },
    {
     "name": "stderr",
     "output_type": "stream",
     "text": [
      "[I 2023-11-08 15:11:54,213] Trial 46 finished with value: 0.751 and parameters: {'contamination': 0.43, 'n_neighbors': 37, 'leaf_size': 54}. Best is trial 35 with value: 0.771.\n"
     ]
    },
    {
     "name": "stdout",
     "output_type": "stream",
     "text": [
      "<f1_score: 0.751 >\n",
      "contamination :  0.37\n"
     ]
    },
    {
     "name": "stderr",
     "output_type": "stream",
     "text": [
      "[I 2023-11-08 15:11:54,593] Trial 47 finished with value: 0.767 and parameters: {'contamination': 0.37, 'n_neighbors': 39, 'leaf_size': 52}. Best is trial 35 with value: 0.771.\n"
     ]
    },
    {
     "name": "stdout",
     "output_type": "stream",
     "text": [
      "<f1_score: 0.767 >\n",
      "contamination :  0.31\n"
     ]
    },
    {
     "name": "stderr",
     "output_type": "stream",
     "text": [
      "[I 2023-11-08 15:11:54,965] Trial 48 finished with value: 0.764 and parameters: {'contamination': 0.31, 'n_neighbors': 39, 'leaf_size': 58}. Best is trial 35 with value: 0.771.\n"
     ]
    },
    {
     "name": "stdout",
     "output_type": "stream",
     "text": [
      "<f1_score: 0.764 >\n",
      "contamination :  0.37\n"
     ]
    },
    {
     "name": "stderr",
     "output_type": "stream",
     "text": [
      "[I 2023-11-08 15:11:55,230] Trial 49 finished with value: 0.755 and parameters: {'contamination': 0.37, 'n_neighbors': 14, 'leaf_size': 55}. Best is trial 35 with value: 0.771.\n"
     ]
    },
    {
     "name": "stdout",
     "output_type": "stream",
     "text": [
      "<f1_score: 0.755 >\n",
      "contamination :  0.41000000000000003\n"
     ]
    },
    {
     "name": "stderr",
     "output_type": "stream",
     "text": [
      "[I 2023-11-08 15:11:55,633] Trial 50 finished with value: 0.755 and parameters: {'contamination': 0.41000000000000003, 'n_neighbors': 37, 'leaf_size': 51}. Best is trial 35 with value: 0.771.\n"
     ]
    },
    {
     "name": "stdout",
     "output_type": "stream",
     "text": [
      "<f1_score: 0.755 >\n",
      "contamination :  0.37\n"
     ]
    },
    {
     "name": "stderr",
     "output_type": "stream",
     "text": [
      "[I 2023-11-08 15:11:55,992] Trial 51 finished with value: 0.763 and parameters: {'contamination': 0.37, 'n_neighbors': 32, 'leaf_size': 45}. Best is trial 35 with value: 0.771.\n"
     ]
    },
    {
     "name": "stdout",
     "output_type": "stream",
     "text": [
      "<f1_score: 0.763 >\n",
      "contamination :  0.33\n"
     ]
    },
    {
     "name": "stderr",
     "output_type": "stream",
     "text": [
      "[I 2023-11-08 15:11:56,367] Trial 52 finished with value: 0.766 and parameters: {'contamination': 0.33, 'n_neighbors': 34, 'leaf_size': 53}. Best is trial 35 with value: 0.771.\n"
     ]
    },
    {
     "name": "stdout",
     "output_type": "stream",
     "text": [
      "<f1_score: 0.766 >\n",
      "contamination :  0.05\n"
     ]
    },
    {
     "name": "stderr",
     "output_type": "stream",
     "text": [
      "[I 2023-11-08 15:11:56,803] Trial 53 finished with value: 0.614 and parameters: {'contamination': 0.05, 'n_neighbors': 36, 'leaf_size': 41}. Best is trial 35 with value: 0.771.\n"
     ]
    },
    {
     "name": "stdout",
     "output_type": "stream",
     "text": [
      "<f1_score: 0.614 >\n",
      "contamination :  0.33\n"
     ]
    },
    {
     "name": "stderr",
     "output_type": "stream",
     "text": [
      "[I 2023-11-08 15:11:57,188] Trial 54 finished with value: 0.76 and parameters: {'contamination': 0.33, 'n_neighbors': 39, 'leaf_size': 49}. Best is trial 35 with value: 0.771.\n"
     ]
    },
    {
     "name": "stdout",
     "output_type": "stream",
     "text": [
      "<f1_score: 0.76 >\n",
      "contamination :  0.27\n"
     ]
    },
    {
     "name": "stderr",
     "output_type": "stream",
     "text": [
      "[I 2023-11-08 15:11:57,548] Trial 55 finished with value: 0.754 and parameters: {'contamination': 0.27, 'n_neighbors': 28, 'leaf_size': 32}. Best is trial 35 with value: 0.771.\n"
     ]
    },
    {
     "name": "stdout",
     "output_type": "stream",
     "text": [
      "<f1_score: 0.754 >\n",
      "contamination :  0.39\n"
     ]
    },
    {
     "name": "stderr",
     "output_type": "stream",
     "text": [
      "[I 2023-11-08 15:11:57,935] Trial 56 finished with value: 0.763 and parameters: {'contamination': 0.39, 'n_neighbors': 37, 'leaf_size': 43}. Best is trial 35 with value: 0.771.\n"
     ]
    },
    {
     "name": "stdout",
     "output_type": "stream",
     "text": [
      "<f1_score: 0.763 >\n",
      "contamination :  0.43\n"
     ]
    },
    {
     "name": "stderr",
     "output_type": "stream",
     "text": [
      "[I 2023-11-08 15:11:58,346] Trial 57 finished with value: 0.749 and parameters: {'contamination': 0.43, 'n_neighbors': 40, 'leaf_size': 57}. Best is trial 35 with value: 0.771.\n"
     ]
    },
    {
     "name": "stdout",
     "output_type": "stream",
     "text": [
      "<f1_score: 0.749 >\n",
      "contamination :  0.27\n"
     ]
    },
    {
     "name": "stderr",
     "output_type": "stream",
     "text": [
      "[I 2023-11-08 15:11:58,711] Trial 58 finished with value: 0.745 and parameters: {'contamination': 0.27, 'n_neighbors': 33, 'leaf_size': 46}. Best is trial 35 with value: 0.771.\n"
     ]
    },
    {
     "name": "stdout",
     "output_type": "stream",
     "text": [
      "<f1_score: 0.745 >\n",
      "contamination :  0.47000000000000003\n"
     ]
    },
    {
     "name": "stderr",
     "output_type": "stream",
     "text": [
      "[I 2023-11-08 15:11:59,031] Trial 59 finished with value: 0.752 and parameters: {'contamination': 0.47000000000000003, 'n_neighbors': 30, 'leaf_size': 54}. Best is trial 35 with value: 0.771.\n"
     ]
    },
    {
     "name": "stdout",
     "output_type": "stream",
     "text": [
      "<f1_score: 0.752 >\n",
      "contamination :  0.37\n"
     ]
    },
    {
     "name": "stderr",
     "output_type": "stream",
     "text": [
      "[I 2023-11-08 15:11:59,344] Trial 60 finished with value: 0.767 and parameters: {'contamination': 0.37, 'n_neighbors': 34, 'leaf_size': 50}. Best is trial 35 with value: 0.771.\n"
     ]
    },
    {
     "name": "stdout",
     "output_type": "stream",
     "text": [
      "<f1_score: 0.767 >\n",
      "contamination :  0.35000000000000003\n"
     ]
    },
    {
     "name": "stderr",
     "output_type": "stream",
     "text": [
      "[I 2023-11-08 15:11:59,673] Trial 61 finished with value: 0.768 and parameters: {'contamination': 0.35000000000000003, 'n_neighbors': 35, 'leaf_size': 60}. Best is trial 35 with value: 0.771.\n"
     ]
    },
    {
     "name": "stdout",
     "output_type": "stream",
     "text": [
      "<f1_score: 0.768 >\n",
      "contamination :  0.35000000000000003\n"
     ]
    },
    {
     "name": "stderr",
     "output_type": "stream",
     "text": [
      "[I 2023-11-08 15:12:00,047] Trial 62 finished with value: 0.768 and parameters: {'contamination': 0.35000000000000003, 'n_neighbors': 36, 'leaf_size': 58}. Best is trial 35 with value: 0.771.\n"
     ]
    },
    {
     "name": "stdout",
     "output_type": "stream",
     "text": [
      "<f1_score: 0.768 >\n",
      "contamination :  0.33\n"
     ]
    },
    {
     "name": "stderr",
     "output_type": "stream",
     "text": [
      "[I 2023-11-08 15:12:00,381] Trial 63 finished with value: 0.764 and parameters: {'contamination': 0.33, 'n_neighbors': 38, 'leaf_size': 56}. Best is trial 35 with value: 0.771.\n"
     ]
    },
    {
     "name": "stdout",
     "output_type": "stream",
     "text": [
      "<f1_score: 0.764 >\n",
      "contamination :  0.39\n"
     ]
    },
    {
     "name": "stderr",
     "output_type": "stream",
     "text": [
      "[I 2023-11-08 15:12:00,694] Trial 64 finished with value: 0.759 and parameters: {'contamination': 0.39, 'n_neighbors': 32, 'leaf_size': 53}. Best is trial 35 with value: 0.771.\n"
     ]
    },
    {
     "name": "stdout",
     "output_type": "stream",
     "text": [
      "<f1_score: 0.759 >\n",
      "contamination :  0.31\n"
     ]
    },
    {
     "name": "stderr",
     "output_type": "stream",
     "text": [
      "[I 2023-11-08 15:12:01,028] Trial 65 finished with value: 0.761 and parameters: {'contamination': 0.31, 'n_neighbors': 34, 'leaf_size': 47}. Best is trial 35 with value: 0.771.\n"
     ]
    },
    {
     "name": "stdout",
     "output_type": "stream",
     "text": [
      "<f1_score: 0.761 >\n",
      "contamination :  0.29000000000000004\n"
     ]
    },
    {
     "name": "stderr",
     "output_type": "stream",
     "text": [
      "[I 2023-11-08 15:12:01,313] Trial 66 finished with value: 0.769 and parameters: {'contamination': 0.29000000000000004, 'n_neighbors': 18, 'leaf_size': 35}. Best is trial 35 with value: 0.771.\n"
     ]
    },
    {
     "name": "stdout",
     "output_type": "stream",
     "text": [
      "<f1_score: 0.769 >\n",
      "contamination :  0.29000000000000004\n"
     ]
    },
    {
     "name": "stderr",
     "output_type": "stream",
     "text": [
      "[I 2023-11-08 15:12:01,621] Trial 67 finished with value: 0.77 and parameters: {'contamination': 0.29000000000000004, 'n_neighbors': 20, 'leaf_size': 35}. Best is trial 35 with value: 0.771.\n"
     ]
    },
    {
     "name": "stdout",
     "output_type": "stream",
     "text": [
      "<f1_score: 0.77 >\n",
      "contamination :  0.21000000000000002\n"
     ]
    },
    {
     "name": "stderr",
     "output_type": "stream",
     "text": [
      "[I 2023-11-08 15:12:01,913] Trial 68 finished with value: 0.756 and parameters: {'contamination': 0.21000000000000002, 'n_neighbors': 18, 'leaf_size': 35}. Best is trial 35 with value: 0.771.\n"
     ]
    },
    {
     "name": "stdout",
     "output_type": "stream",
     "text": [
      "<f1_score: 0.756 >\n",
      "contamination :  0.29000000000000004\n"
     ]
    },
    {
     "name": "stderr",
     "output_type": "stream",
     "text": [
      "[I 2023-11-08 15:12:02,192] Trial 69 finished with value: 0.77 and parameters: {'contamination': 0.29000000000000004, 'n_neighbors': 17, 'leaf_size': 32}. Best is trial 35 with value: 0.771.\n"
     ]
    },
    {
     "name": "stdout",
     "output_type": "stream",
     "text": [
      "<f1_score: 0.77 >\n",
      "contamination :  0.23\n"
     ]
    },
    {
     "name": "stderr",
     "output_type": "stream",
     "text": [
      "[I 2023-11-08 15:12:02,488] Trial 70 finished with value: 0.76 and parameters: {'contamination': 0.23, 'n_neighbors': 18, 'leaf_size': 31}. Best is trial 35 with value: 0.771.\n"
     ]
    },
    {
     "name": "stdout",
     "output_type": "stream",
     "text": [
      "<f1_score: 0.76 >\n",
      "contamination :  0.29000000000000004\n"
     ]
    },
    {
     "name": "stderr",
     "output_type": "stream",
     "text": [
      "[I 2023-11-08 15:12:02,859] Trial 71 finished with value: 0.762 and parameters: {'contamination': 0.29000000000000004, 'n_neighbors': 16, 'leaf_size': 34}. Best is trial 35 with value: 0.771.\n"
     ]
    },
    {
     "name": "stdout",
     "output_type": "stream",
     "text": [
      "<f1_score: 0.762 >\n",
      "contamination :  0.27\n"
     ]
    },
    {
     "name": "stderr",
     "output_type": "stream",
     "text": [
      "[I 2023-11-08 15:12:03,127] Trial 72 finished with value: 0.748 and parameters: {'contamination': 0.27, 'n_neighbors': 10, 'leaf_size': 33}. Best is trial 35 with value: 0.771.\n"
     ]
    },
    {
     "name": "stdout",
     "output_type": "stream",
     "text": [
      "<f1_score: 0.748 >\n",
      "contamination :  0.31\n"
     ]
    },
    {
     "name": "stderr",
     "output_type": "stream",
     "text": [
      "[I 2023-11-08 15:12:03,491] Trial 73 finished with value: 0.762 and parameters: {'contamination': 0.31, 'n_neighbors': 16, 'leaf_size': 36}. Best is trial 35 with value: 0.771.\n"
     ]
    },
    {
     "name": "stdout",
     "output_type": "stream",
     "text": [
      "<f1_score: 0.762 >\n",
      "contamination :  0.25\n"
     ]
    },
    {
     "name": "stderr",
     "output_type": "stream",
     "text": [
      "[I 2023-11-08 15:12:03,777] Trial 74 finished with value: 0.751 and parameters: {'contamination': 0.25, 'n_neighbors': 21, 'leaf_size': 32}. Best is trial 35 with value: 0.771.\n"
     ]
    },
    {
     "name": "stdout",
     "output_type": "stream",
     "text": [
      "<f1_score: 0.751 >\n",
      "contamination :  0.29000000000000004\n"
     ]
    },
    {
     "name": "stderr",
     "output_type": "stream",
     "text": [
      "[I 2023-11-08 15:12:04,081] Trial 75 finished with value: 0.771 and parameters: {'contamination': 0.29000000000000004, 'n_neighbors': 19, 'leaf_size': 30}. Best is trial 35 with value: 0.771.\n"
     ]
    },
    {
     "name": "stdout",
     "output_type": "stream",
     "text": [
      "<f1_score: 0.771 >\n",
      "contamination :  0.29000000000000004\n"
     ]
    },
    {
     "name": "stderr",
     "output_type": "stream",
     "text": [
      "[I 2023-11-08 15:12:04,388] Trial 76 finished with value: 0.771 and parameters: {'contamination': 0.29000000000000004, 'n_neighbors': 19, 'leaf_size': 31}. Best is trial 35 with value: 0.771.\n"
     ]
    },
    {
     "name": "stdout",
     "output_type": "stream",
     "text": [
      "<f1_score: 0.771 >\n",
      "contamination :  0.31\n"
     ]
    },
    {
     "name": "stderr",
     "output_type": "stream",
     "text": [
      "[I 2023-11-08 15:12:04,703] Trial 77 finished with value: 0.773 and parameters: {'contamination': 0.31, 'n_neighbors': 23, 'leaf_size': 30}. Best is trial 77 with value: 0.773.\n"
     ]
    },
    {
     "name": "stdout",
     "output_type": "stream",
     "text": [
      "<f1_score: 0.773 >\n",
      "contamination :  0.23\n"
     ]
    },
    {
     "name": "stderr",
     "output_type": "stream",
     "text": [
      "[I 2023-11-08 15:12:05,027] Trial 78 finished with value: 0.743 and parameters: {'contamination': 0.23, 'n_neighbors': 23, 'leaf_size': 30}. Best is trial 77 with value: 0.773.\n"
     ]
    },
    {
     "name": "stdout",
     "output_type": "stream",
     "text": [
      "<f1_score: 0.743 >\n",
      "contamination :  0.33\n"
     ]
    },
    {
     "name": "stderr",
     "output_type": "stream",
     "text": [
      "[I 2023-11-08 15:12:05,345] Trial 79 finished with value: 0.762 and parameters: {'contamination': 0.33, 'n_neighbors': 20, 'leaf_size': 31}. Best is trial 77 with value: 0.773.\n"
     ]
    },
    {
     "name": "stdout",
     "output_type": "stream",
     "text": [
      "<f1_score: 0.762 >\n",
      "contamination :  0.31\n"
     ]
    },
    {
     "name": "stderr",
     "output_type": "stream",
     "text": [
      "[I 2023-11-08 15:12:05,636] Trial 80 finished with value: 0.767 and parameters: {'contamination': 0.31, 'n_neighbors': 20, 'leaf_size': 31}. Best is trial 77 with value: 0.773.\n"
     ]
    },
    {
     "name": "stdout",
     "output_type": "stream",
     "text": [
      "<f1_score: 0.767 >\n",
      "contamination :  0.29000000000000004\n"
     ]
    },
    {
     "name": "stderr",
     "output_type": "stream",
     "text": [
      "[I 2023-11-08 15:12:05,939] Trial 81 finished with value: 0.766 and parameters: {'contamination': 0.29000000000000004, 'n_neighbors': 25, 'leaf_size': 30}. Best is trial 77 with value: 0.773.\n"
     ]
    },
    {
     "name": "stdout",
     "output_type": "stream",
     "text": [
      "<f1_score: 0.766 >\n",
      "contamination :  0.29000000000000004\n"
     ]
    },
    {
     "name": "stderr",
     "output_type": "stream",
     "text": [
      "[I 2023-11-08 15:12:06,242] Trial 82 finished with value: 0.771 and parameters: {'contamination': 0.29000000000000004, 'n_neighbors': 19, 'leaf_size': 33}. Best is trial 77 with value: 0.773.\n"
     ]
    },
    {
     "name": "stdout",
     "output_type": "stream",
     "text": [
      "<f1_score: 0.771 >\n",
      "contamination :  0.27\n"
     ]
    },
    {
     "name": "stderr",
     "output_type": "stream",
     "text": [
      "[I 2023-11-08 15:12:06,562] Trial 83 finished with value: 0.77 and parameters: {'contamination': 0.27, 'n_neighbors': 19, 'leaf_size': 33}. Best is trial 77 with value: 0.773.\n"
     ]
    },
    {
     "name": "stdout",
     "output_type": "stream",
     "text": [
      "<f1_score: 0.77 >\n",
      "contamination :  0.25\n"
     ]
    },
    {
     "name": "stderr",
     "output_type": "stream",
     "text": [
      "[I 2023-11-08 15:12:06,829] Trial 84 finished with value: 0.769 and parameters: {'contamination': 0.25, 'n_neighbors': 17, 'leaf_size': 32}. Best is trial 77 with value: 0.773.\n"
     ]
    },
    {
     "name": "stdout",
     "output_type": "stream",
     "text": [
      "<f1_score: 0.769 >\n",
      "contamination :  0.33\n"
     ]
    },
    {
     "name": "stderr",
     "output_type": "stream",
     "text": [
      "[I 2023-11-08 15:12:07,148] Trial 85 finished with value: 0.758 and parameters: {'contamination': 0.33, 'n_neighbors': 22, 'leaf_size': 34}. Best is trial 77 with value: 0.773.\n"
     ]
    },
    {
     "name": "stdout",
     "output_type": "stream",
     "text": [
      "<f1_score: 0.758 >\n",
      "contamination :  0.29000000000000004\n"
     ]
    },
    {
     "name": "stderr",
     "output_type": "stream",
     "text": [
      "[I 2023-11-08 15:12:07,455] Trial 86 finished with value: 0.77 and parameters: {'contamination': 0.29000000000000004, 'n_neighbors': 20, 'leaf_size': 31}. Best is trial 77 with value: 0.773.\n"
     ]
    },
    {
     "name": "stdout",
     "output_type": "stream",
     "text": [
      "<f1_score: 0.77 >\n",
      "contamination :  0.31\n"
     ]
    },
    {
     "name": "stderr",
     "output_type": "stream",
     "text": [
      "[I 2023-11-08 15:12:07,758] Trial 87 finished with value: 0.762 and parameters: {'contamination': 0.31, 'n_neighbors': 16, 'leaf_size': 30}. Best is trial 77 with value: 0.773.\n"
     ]
    },
    {
     "name": "stdout",
     "output_type": "stream",
     "text": [
      "<f1_score: 0.762 >\n",
      "contamination :  0.25\n"
     ]
    },
    {
     "name": "stderr",
     "output_type": "stream",
     "text": [
      "[I 2023-11-08 15:12:08,068] Trial 88 finished with value: 0.748 and parameters: {'contamination': 0.25, 'n_neighbors': 22, 'leaf_size': 33}. Best is trial 77 with value: 0.773.\n"
     ]
    },
    {
     "name": "stdout",
     "output_type": "stream",
     "text": [
      "<f1_score: 0.748 >\n",
      "contamination :  0.37\n"
     ]
    },
    {
     "name": "stderr",
     "output_type": "stream",
     "text": [
      "[I 2023-11-08 15:12:08,353] Trial 89 finished with value: 0.754 and parameters: {'contamination': 0.37, 'n_neighbors': 19, 'leaf_size': 32}. Best is trial 77 with value: 0.773.\n"
     ]
    },
    {
     "name": "stdout",
     "output_type": "stream",
     "text": [
      "<f1_score: 0.754 >\n",
      "contamination :  0.21000000000000002\n"
     ]
    },
    {
     "name": "stderr",
     "output_type": "stream",
     "text": [
      "[I 2023-11-08 15:12:08,668] Trial 90 finished with value: 0.741 and parameters: {'contamination': 0.21000000000000002, 'n_neighbors': 21, 'leaf_size': 34}. Best is trial 77 with value: 0.773.\n"
     ]
    },
    {
     "name": "stdout",
     "output_type": "stream",
     "text": [
      "<f1_score: 0.741 >\n",
      "contamination :  0.27\n"
     ]
    },
    {
     "name": "stderr",
     "output_type": "stream",
     "text": [
      "[I 2023-11-08 15:12:08,947] Trial 91 finished with value: 0.77 and parameters: {'contamination': 0.27, 'n_neighbors': 19, 'leaf_size': 33}. Best is trial 77 with value: 0.773.\n"
     ]
    },
    {
     "name": "stdout",
     "output_type": "stream",
     "text": [
      "<f1_score: 0.77 >\n",
      "contamination :  0.27\n"
     ]
    },
    {
     "name": "stderr",
     "output_type": "stream",
     "text": [
      "[I 2023-11-08 15:12:09,276] Trial 92 finished with value: 0.769 and parameters: {'contamination': 0.27, 'n_neighbors': 17, 'leaf_size': 31}. Best is trial 77 with value: 0.773.\n"
     ]
    },
    {
     "name": "stdout",
     "output_type": "stream",
     "text": [
      "<f1_score: 0.769 >\n",
      "contamination :  0.31\n"
     ]
    },
    {
     "name": "stderr",
     "output_type": "stream",
     "text": [
      "[I 2023-11-08 15:12:09,576] Trial 93 finished with value: 0.773 and parameters: {'contamination': 0.31, 'n_neighbors': 23, 'leaf_size': 36}. Best is trial 77 with value: 0.773.\n"
     ]
    },
    {
     "name": "stdout",
     "output_type": "stream",
     "text": [
      "<f1_score: 0.773 >\n",
      "contamination :  0.29000000000000004\n"
     ]
    },
    {
     "name": "stderr",
     "output_type": "stream",
     "text": [
      "[I 2023-11-08 15:12:09,881] Trial 94 finished with value: 0.766 and parameters: {'contamination': 0.29000000000000004, 'n_neighbors': 25, 'leaf_size': 36}. Best is trial 77 with value: 0.773.\n"
     ]
    },
    {
     "name": "stdout",
     "output_type": "stream",
     "text": [
      "<f1_score: 0.766 >\n",
      "contamination :  0.31\n"
     ]
    },
    {
     "name": "stderr",
     "output_type": "stream",
     "text": [
      "[I 2023-11-08 15:12:10,230] Trial 95 finished with value: 0.773 and parameters: {'contamination': 0.31, 'n_neighbors': 23, 'leaf_size': 38}. Best is trial 77 with value: 0.773.\n"
     ]
    },
    {
     "name": "stdout",
     "output_type": "stream",
     "text": [
      "<f1_score: 0.773 >\n",
      "contamination :  0.33\n"
     ]
    },
    {
     "name": "stderr",
     "output_type": "stream",
     "text": [
      "[I 2023-11-08 15:12:10,525] Trial 96 finished with value: 0.761 and parameters: {'contamination': 0.33, 'n_neighbors': 21, 'leaf_size': 39}. Best is trial 77 with value: 0.773.\n"
     ]
    },
    {
     "name": "stdout",
     "output_type": "stream",
     "text": [
      "<f1_score: 0.761 >\n",
      "contamination :  0.35000000000000003\n"
     ]
    },
    {
     "name": "stderr",
     "output_type": "stream",
     "text": [
      "[I 2023-11-08 15:12:10,839] Trial 97 finished with value: 0.757 and parameters: {'contamination': 0.35000000000000003, 'n_neighbors': 23, 'leaf_size': 36}. Best is trial 77 with value: 0.773.\n"
     ]
    },
    {
     "name": "stdout",
     "output_type": "stream",
     "text": [
      "<f1_score: 0.757 >\n",
      "contamination :  0.31\n"
     ]
    },
    {
     "name": "stderr",
     "output_type": "stream",
     "text": [
      "[I 2023-11-08 15:12:11,148] Trial 98 finished with value: 0.76 and parameters: {'contamination': 0.31, 'n_neighbors': 26, 'leaf_size': 38}. Best is trial 77 with value: 0.773.\n"
     ]
    },
    {
     "name": "stdout",
     "output_type": "stream",
     "text": [
      "<f1_score: 0.76 >\n",
      "contamination :  0.35000000000000003\n"
     ]
    },
    {
     "name": "stderr",
     "output_type": "stream",
     "text": [
      "[I 2023-11-08 15:12:11,453] Trial 99 finished with value: 0.757 and parameters: {'contamination': 0.35000000000000003, 'n_neighbors': 24, 'leaf_size': 52}. Best is trial 77 with value: 0.773.\n"
     ]
    },
    {
     "name": "stdout",
     "output_type": "stream",
     "text": [
      "<f1_score: 0.757 >\n",
      "study.best_trial.value : 0.773\n",
      "study.best_params : {'contamination': 0.31, 'n_neighbors': 23, 'leaf_size': 30}\n"
     ]
    }
   ],
   "source": [
    "study = optuna.create_study(direction='maximize')\n",
    "study.optimize(optuna_main, n_trials=100)\n",
    "print(f'study.best_trial.value : {study.best_trial.value}')\n",
    "print(f'study.best_params : {study.best_trial.params}')"
   ]
  },
  {
   "cell_type": "code",
   "execution_count": 9,
   "metadata": {},
   "outputs": [
    {
     "name": "stdout",
     "output_type": "stream",
     "text": [
      "study.best_trial.value : 0.77\n",
      "study.best_paramse : {'contamination': 0.29000000000000004}\n"
     ]
    }
   ],
   "source": [
    "#결과\n",
    "print(f'study.best_trial.value : {study.best_trial.value}')\n",
    "print(f'study.best_paramse : {study.best_params}')"
   ]
  },
  {
   "cell_type": "code",
   "execution_count": null,
   "metadata": {},
   "outputs": [],
   "source": []
  }
 ],
 "metadata": {
  "kernelspec": {
   "display_name": "Python 3",
   "language": "python",
   "name": "python3"
  },
  "language_info": {
   "codemirror_mode": {
    "name": "ipython",
    "version": 3
   },
   "file_extension": ".py",
   "mimetype": "text/x-python",
   "name": "python",
   "nbconvert_exporter": "python",
   "pygments_lexer": "ipython3",
   "version": "3.10.12"
  }
 },
 "nbformat": 4,
 "nbformat_minor": 2
}
